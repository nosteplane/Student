{
 "cells": [
  {
   "cell_type": "markdown",
   "metadata": {},
   "source": [
    "На предыдущих шагах вы сталкивались с различными характеристиками пользователей, которые были сохранены в списках. Теперь попробуем собрать нужную информацию в словарь!\n",
    "\n",
    "Начнем с небольшого, где:\n",
    "\n",
    "ключом будет название характеристики\n",
    "значением – её значение\n",
    "В словарь поместите следующую информацию:\n",
    "\n",
    "характеристика\tзначение\n",
    "name\tMasha\n",
    "surname\tVolkova\n",
    "age\t25\n",
    "salary\t60000\n",
    "position\tjunior\n",
    "Результат сохраните в переменную salaries_dict."
   ]
  },
  {
   "cell_type": "code",
   "execution_count": 4,
   "metadata": {},
   "outputs": [],
   "source": [
    "dict={'name': 'Masha',\n",
    "      'surname': 'Volkova',\n",
    "      'age': 25,\n",
    "      'salary': 60000,\n",
    "      'position': 'junior'\n",
    "}"
   ]
  },
  {
   "cell_type": "code",
   "execution_count": null,
   "metadata": {},
   "outputs": [],
   "source": [
    "lst=[]\n",
    "N=10\n",
    "n=0\n",
    "dn=2\n",
    "while n < N:\n",
    "    lst.append('n += dn')"
   ]
  },
  {
   "cell_type": "code",
   "execution_count": null,
   "metadata": {},
   "outputs": [],
   "source": [
    "lst"
   ]
  }
 ],
 "metadata": {
  "kernelspec": {
   "display_name": "Python 3",
   "language": "python",
   "name": "python3"
  },
  "language_info": {
   "codemirror_mode": {
    "name": "ipython",
    "version": 3
   },
   "file_extension": ".py",
   "mimetype": "text/x-python",
   "name": "python",
   "nbconvert_exporter": "python",
   "pygments_lexer": "ipython3",
   "version": "3.7.3"
  }
 },
 "nbformat": 4,
 "nbformat_minor": 4
}
