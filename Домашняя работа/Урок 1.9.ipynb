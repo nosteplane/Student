{
 "cells": [
  {
   "cell_type": "markdown",
   "metadata": {},
   "source": [
    "⭐️ Задание со звёздочкой! ⭐️\n",
    "\n",
    "Реализуйте цикл, который пробегается по уже созданному списку workers со значениями как в 2-м и 6-м заданиях и выводит для каждого сотрудника следующую строку (то есть печатает её для каждого элемента списка):\n",
    "\n",
    "user_name user_family is position\n",
    "\n",
    "\n",
    "где user_name и user_family — имя и фамилия сотрудника, а position — одна из следующих строк:\n",
    "\n",
    "'junior' — стаж меньше 2 лет\n",
    "'middle' — стаж больше либо равен 2 и меньше или равен 5\n",
    "'senior' — стаж строго больше 5 лет \n",
    "Сам список создавать не нужно, он уже находится в переменной workers. Пример данных, которые могут быть в workers:\n",
    "\n",
    "workers = [['Ivan', 'Ivanov', 100000, 1], ['Petr', 'Petrov', 150000, 2], ['Sidor', 'Sidorov', 200000, 10]]\n",
    "\n",
    "\n",
    "Note: в этом задании эти строки нужно печатать (используйте функцию print)."
   ]
  },
  {
   "cell_type": "code",
   "execution_count": null,
   "metadata": {},
   "outputs": [],
   "source": [
    "for x in workers:\n",
    "    if x[3] <2:\n",
    "        position='junior'\n",
    "    elif  x[3] >2 position <=5:\n",
    "        position='middle'\n",
    "    else:\n",
    "        position='senior'\n",
    "    status=f'{x[0]} {x[1]} is {position}'"
   ]
  }
 ],
 "metadata": {
  "kernelspec": {
   "display_name": "Python 3",
   "language": "python",
   "name": "python3"
  },
  "language_info": {
   "codemirror_mode": {
    "name": "ipython",
    "version": 3
   },
   "file_extension": ".py",
   "mimetype": "text/x-python",
   "name": "python",
   "nbconvert_exporter": "python",
   "pygments_lexer": "ipython3",
   "version": "3.7.3"
  }
 },
 "nbformat": 4,
 "nbformat_minor": 4
}
