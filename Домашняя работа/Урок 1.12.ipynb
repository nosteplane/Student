{
 "cells": [
  {
   "cell_type": "markdown",
   "metadata": {},
   "source": [
    "login\tname\tsurname\tage\tsalary\tposition\n",
    "mvolkova\tMasha\tVolkova\t25\t60000\tjunior\n",
    "pvoronov\tPeter\tVoronov\t27\t100000\tjunior\n",
    "pparker\tPeter\tParker\t35\t150000\tmiddle\n",
    "akarpov\tAnatoly\tKarpov\t30\t250000\tsenior"
   ]
  },
  {
   "cell_type": "code",
   "execution_count": 12,
   "metadata": {},
   "outputs": [],
   "source": [
    "dict={\n",
    "'mvolkova':{'name':'Masha', 'surname':'Volkova', 'age':25, 'salary': 60000, 'position': 'junior'}, \n",
    "'pvoronov':{'name':'Peter', 'surname':'Voronov', 'age':27, 'salary': 100000, 'position': 'junior'},\n",
    "'pparker':{'name':'Peter', 'surname':'Parker', 'age':35, 'salary': 150000, 'position': 'middle'},        \n",
    "'akarpov':{'name':'Anatoly', 'surname':'Karpov', 'age':30, 'salary': 250000, 'position': 'senior'},        \n",
    "}\n",
    "users_dict=dict"
   ]
  },
  {
   "cell_type": "code",
   "execution_count": null,
   "metadata": {},
   "outputs": [],
   "source": []
  }
 ],
 "metadata": {
  "kernelspec": {
   "display_name": "Python 3",
   "language": "python",
   "name": "python3"
  },
  "language_info": {
   "codemirror_mode": {
    "name": "ipython",
    "version": 3
   },
   "file_extension": ".py",
   "mimetype": "text/x-python",
   "name": "python",
   "nbconvert_exporter": "python",
   "pygments_lexer": "ipython3",
   "version": "3.7.3"
  }
 },
 "nbformat": 4,
 "nbformat_minor": 4
}
