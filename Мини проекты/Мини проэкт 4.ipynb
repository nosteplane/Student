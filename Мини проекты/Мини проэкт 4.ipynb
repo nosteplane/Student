{
 "cells": [
  {
   "cell_type": "code",
   "execution_count": 1,
   "metadata": {},
   "outputs": [],
   "source": [
    "import pandas as pd\n",
    "import os\n",
    "import seaborn as sns\n",
    "import matplotlib.pyplot as plt\n",
    "%matplotlib inline"
   ]
  },
  {
   "cell_type": "code",
   "execution_count": 2,
   "metadata": {},
   "outputs": [
    {
     "name": "stdout",
     "output_type": "stream",
     "text": [
      "('/mnt/HC_Volume_18315164/home-jupyter/jupyter-i-karamnov-39/shared/homeworks/python_ds_miniprojects/4/data', ['2020-12-05', '2020-12-08', '2020-12-09', '2020-12-04', '2020-12-06', '2020-12-03', '2020-12-07'], [])\n",
      "('/mnt/HC_Volume_18315164/home-jupyter/jupyter-i-karamnov-39/shared/homeworks/python_ds_miniprojects/4/data/2020-12-05', ['Petr_Ivanov', 'Petr_Smirnov', 'Rostislav_Smirnov', 'Kirill_Smirnov', 'Alexey_Fedorov', 'Alexey_Petrov'], [])\n",
      "('/mnt/HC_Volume_18315164/home-jupyter/jupyter-i-karamnov-39/shared/homeworks/python_ds_miniprojects/4/data/2020-12-05/Petr_Ivanov', [], ['data.csv'])\n",
      "('/mnt/HC_Volume_18315164/home-jupyter/jupyter-i-karamnov-39/shared/homeworks/python_ds_miniprojects/4/data/2020-12-05/Petr_Smirnov', [], ['data.csv'])\n",
      "('/mnt/HC_Volume_18315164/home-jupyter/jupyter-i-karamnov-39/shared/homeworks/python_ds_miniprojects/4/data/2020-12-05/Rostislav_Smirnov', [], ['data.csv'])\n",
      "('/mnt/HC_Volume_18315164/home-jupyter/jupyter-i-karamnov-39/shared/homeworks/python_ds_miniprojects/4/data/2020-12-05/Kirill_Smirnov', [], ['data.csv'])\n",
      "('/mnt/HC_Volume_18315164/home-jupyter/jupyter-i-karamnov-39/shared/homeworks/python_ds_miniprojects/4/data/2020-12-05/Alexey_Fedorov', [], ['data.csv'])\n",
      "('/mnt/HC_Volume_18315164/home-jupyter/jupyter-i-karamnov-39/shared/homeworks/python_ds_miniprojects/4/data/2020-12-05/Alexey_Petrov', [], ['data.csv'])\n",
      "('/mnt/HC_Volume_18315164/home-jupyter/jupyter-i-karamnov-39/shared/homeworks/python_ds_miniprojects/4/data/2020-12-08', ['Petr_Petrov', 'Rostislav_Petrov', 'Kirill_Smirnov', 'Alexey_Fedorov', 'Anton_Smirnov'], [])\n",
      "('/mnt/HC_Volume_18315164/home-jupyter/jupyter-i-karamnov-39/shared/homeworks/python_ds_miniprojects/4/data/2020-12-08/Petr_Petrov', [], ['data.csv'])\n",
      "('/mnt/HC_Volume_18315164/home-jupyter/jupyter-i-karamnov-39/shared/homeworks/python_ds_miniprojects/4/data/2020-12-08/Rostislav_Petrov', [], ['data.csv'])\n",
      "('/mnt/HC_Volume_18315164/home-jupyter/jupyter-i-karamnov-39/shared/homeworks/python_ds_miniprojects/4/data/2020-12-08/Kirill_Smirnov', [], ['data.csv'])\n",
      "('/mnt/HC_Volume_18315164/home-jupyter/jupyter-i-karamnov-39/shared/homeworks/python_ds_miniprojects/4/data/2020-12-08/Alexey_Fedorov', [], ['data.csv'])\n",
      "('/mnt/HC_Volume_18315164/home-jupyter/jupyter-i-karamnov-39/shared/homeworks/python_ds_miniprojects/4/data/2020-12-08/Anton_Smirnov', [], ['data.csv'])\n",
      "('/mnt/HC_Volume_18315164/home-jupyter/jupyter-i-karamnov-39/shared/homeworks/python_ds_miniprojects/4/data/2020-12-09', ['Alexey_Smirnov', 'Anton_Petrov', 'Rostislav_Petrov', 'Anton_Smirnov', 'Anton_Ivanov', 'Petr_Fedorov', 'Vasiliy_Ivanov'], [])\n",
      "('/mnt/HC_Volume_18315164/home-jupyter/jupyter-i-karamnov-39/shared/homeworks/python_ds_miniprojects/4/data/2020-12-09/Alexey_Smirnov', [], ['data.csv'])\n",
      "('/mnt/HC_Volume_18315164/home-jupyter/jupyter-i-karamnov-39/shared/homeworks/python_ds_miniprojects/4/data/2020-12-09/Anton_Petrov', [], ['data.csv'])\n",
      "('/mnt/HC_Volume_18315164/home-jupyter/jupyter-i-karamnov-39/shared/homeworks/python_ds_miniprojects/4/data/2020-12-09/Rostislav_Petrov', [], ['data.csv'])\n",
      "('/mnt/HC_Volume_18315164/home-jupyter/jupyter-i-karamnov-39/shared/homeworks/python_ds_miniprojects/4/data/2020-12-09/Anton_Smirnov', [], ['data.csv'])\n",
      "('/mnt/HC_Volume_18315164/home-jupyter/jupyter-i-karamnov-39/shared/homeworks/python_ds_miniprojects/4/data/2020-12-09/Anton_Ivanov', [], ['data.csv'])\n",
      "('/mnt/HC_Volume_18315164/home-jupyter/jupyter-i-karamnov-39/shared/homeworks/python_ds_miniprojects/4/data/2020-12-09/Petr_Fedorov', [], ['data.csv'])\n",
      "('/mnt/HC_Volume_18315164/home-jupyter/jupyter-i-karamnov-39/shared/homeworks/python_ds_miniprojects/4/data/2020-12-09/Vasiliy_Ivanov', [], ['data.csv'])\n",
      "('/mnt/HC_Volume_18315164/home-jupyter/jupyter-i-karamnov-39/shared/homeworks/python_ds_miniprojects/4/data/2020-12-04', ['Kirill_Fedorov', 'Alexey_Smirnov', 'Rostislav_Ivanov', 'Petr_Ivanov', 'Rostislav_Fedorov', 'Petr_Smirnov', 'Rostislav_Smirnov', 'Petr_Fedorov', 'Vasiliy_Ivanov'], [])\n",
      "('/mnt/HC_Volume_18315164/home-jupyter/jupyter-i-karamnov-39/shared/homeworks/python_ds_miniprojects/4/data/2020-12-04/Kirill_Fedorov', [], ['data.csv'])\n",
      "('/mnt/HC_Volume_18315164/home-jupyter/jupyter-i-karamnov-39/shared/homeworks/python_ds_miniprojects/4/data/2020-12-04/Alexey_Smirnov', [], ['data.csv'])\n",
      "('/mnt/HC_Volume_18315164/home-jupyter/jupyter-i-karamnov-39/shared/homeworks/python_ds_miniprojects/4/data/2020-12-04/Rostislav_Ivanov', [], ['data.csv'])\n",
      "('/mnt/HC_Volume_18315164/home-jupyter/jupyter-i-karamnov-39/shared/homeworks/python_ds_miniprojects/4/data/2020-12-04/Petr_Ivanov', [], ['data.csv'])\n",
      "('/mnt/HC_Volume_18315164/home-jupyter/jupyter-i-karamnov-39/shared/homeworks/python_ds_miniprojects/4/data/2020-12-04/Rostislav_Fedorov', [], ['data.csv'])\n",
      "('/mnt/HC_Volume_18315164/home-jupyter/jupyter-i-karamnov-39/shared/homeworks/python_ds_miniprojects/4/data/2020-12-04/Petr_Smirnov', [], ['data.csv'])\n",
      "('/mnt/HC_Volume_18315164/home-jupyter/jupyter-i-karamnov-39/shared/homeworks/python_ds_miniprojects/4/data/2020-12-04/Rostislav_Smirnov', [], ['data.csv'])\n",
      "('/mnt/HC_Volume_18315164/home-jupyter/jupyter-i-karamnov-39/shared/homeworks/python_ds_miniprojects/4/data/2020-12-04/Petr_Fedorov', [], ['data.csv'])\n",
      "('/mnt/HC_Volume_18315164/home-jupyter/jupyter-i-karamnov-39/shared/homeworks/python_ds_miniprojects/4/data/2020-12-04/Vasiliy_Ivanov', [], ['data.csv'])\n",
      "('/mnt/HC_Volume_18315164/home-jupyter/jupyter-i-karamnov-39/shared/homeworks/python_ds_miniprojects/4/data/2020-12-06', ['Vasiliy_Fedorov'], [])\n",
      "('/mnt/HC_Volume_18315164/home-jupyter/jupyter-i-karamnov-39/shared/homeworks/python_ds_miniprojects/4/data/2020-12-06/Vasiliy_Fedorov', [], ['data.csv'])\n",
      "('/mnt/HC_Volume_18315164/home-jupyter/jupyter-i-karamnov-39/shared/homeworks/python_ds_miniprojects/4/data/2020-12-03', ['Alexey_Smirnov', 'Anton_Petrov', 'Vasiliy_Petrov', 'Kirill_Petrov', 'Petr_Fedorov', 'Vasiliy_Ivanov'], [])\n",
      "('/mnt/HC_Volume_18315164/home-jupyter/jupyter-i-karamnov-39/shared/homeworks/python_ds_miniprojects/4/data/2020-12-03/Alexey_Smirnov', [], ['data.csv'])\n",
      "('/mnt/HC_Volume_18315164/home-jupyter/jupyter-i-karamnov-39/shared/homeworks/python_ds_miniprojects/4/data/2020-12-03/Anton_Petrov', [], ['data.csv'])\n",
      "('/mnt/HC_Volume_18315164/home-jupyter/jupyter-i-karamnov-39/shared/homeworks/python_ds_miniprojects/4/data/2020-12-03/Vasiliy_Petrov', [], ['data.csv'])\n",
      "('/mnt/HC_Volume_18315164/home-jupyter/jupyter-i-karamnov-39/shared/homeworks/python_ds_miniprojects/4/data/2020-12-03/Kirill_Petrov', [], ['data.csv'])\n",
      "('/mnt/HC_Volume_18315164/home-jupyter/jupyter-i-karamnov-39/shared/homeworks/python_ds_miniprojects/4/data/2020-12-03/Petr_Fedorov', [], ['data.csv'])\n",
      "('/mnt/HC_Volume_18315164/home-jupyter/jupyter-i-karamnov-39/shared/homeworks/python_ds_miniprojects/4/data/2020-12-03/Vasiliy_Ivanov', [], ['data.csv'])\n",
      "('/mnt/HC_Volume_18315164/home-jupyter/jupyter-i-karamnov-39/shared/homeworks/python_ds_miniprojects/4/data/2020-12-07', ['Kirill_Fedorov', 'Alexey_Smirnov', 'Rostislav_Fedorov', 'Alexey_Ivanov', 'Petr_Smirnov', 'Alexey_Fedorov', 'Anton_Smirnov', 'Anton_Ivanov', 'Petr_Fedorov', 'Vasiliy_Ivanov'], [])\n",
      "('/mnt/HC_Volume_18315164/home-jupyter/jupyter-i-karamnov-39/shared/homeworks/python_ds_miniprojects/4/data/2020-12-07/Kirill_Fedorov', [], ['data.csv'])\n",
      "('/mnt/HC_Volume_18315164/home-jupyter/jupyter-i-karamnov-39/shared/homeworks/python_ds_miniprojects/4/data/2020-12-07/Alexey_Smirnov', [], ['data.csv'])\n",
      "('/mnt/HC_Volume_18315164/home-jupyter/jupyter-i-karamnov-39/shared/homeworks/python_ds_miniprojects/4/data/2020-12-07/Rostislav_Fedorov', [], ['data.csv'])\n",
      "('/mnt/HC_Volume_18315164/home-jupyter/jupyter-i-karamnov-39/shared/homeworks/python_ds_miniprojects/4/data/2020-12-07/Alexey_Ivanov', [], ['data.csv'])\n",
      "('/mnt/HC_Volume_18315164/home-jupyter/jupyter-i-karamnov-39/shared/homeworks/python_ds_miniprojects/4/data/2020-12-07/Petr_Smirnov', [], ['data.csv'])\n",
      "('/mnt/HC_Volume_18315164/home-jupyter/jupyter-i-karamnov-39/shared/homeworks/python_ds_miniprojects/4/data/2020-12-07/Alexey_Fedorov', [], ['data.csv'])\n",
      "('/mnt/HC_Volume_18315164/home-jupyter/jupyter-i-karamnov-39/shared/homeworks/python_ds_miniprojects/4/data/2020-12-07/Anton_Smirnov', [], ['data.csv'])\n",
      "('/mnt/HC_Volume_18315164/home-jupyter/jupyter-i-karamnov-39/shared/homeworks/python_ds_miniprojects/4/data/2020-12-07/Anton_Ivanov', [], ['data.csv'])\n",
      "('/mnt/HC_Volume_18315164/home-jupyter/jupyter-i-karamnov-39/shared/homeworks/python_ds_miniprojects/4/data/2020-12-07/Petr_Fedorov', [], ['data.csv'])\n",
      "('/mnt/HC_Volume_18315164/home-jupyter/jupyter-i-karamnov-39/shared/homeworks/python_ds_miniprojects/4/data/2020-12-07/Vasiliy_Ivanov', [], ['data.csv'])\n"
     ]
    }
   ],
   "source": [
    "tree=os.walk('/mnt/HC_Volume_18315164/home-jupyter/jupyter-i-karamnov-39/shared/homeworks/python_ds_miniprojects/4/data')\n",
    "for item in tree:\n",
    "    print(item)"
   ]
  },
  {
   "cell_type": "code",
   "execution_count": 6,
   "metadata": {},
   "outputs": [],
   "source": [
    "tree = os.walk('/mnt/HC_Volume_18315164/home-jupyter/jupyter-i-karamnov-39/shared/homeworks/python_ds_miniprojects/4/data')\n",
    "data_files =[]\n",
    "target_files = 'data.csv' \n",
    "\n",
    "#здесь мы ищем путь к файлам и папкам\n",
    "\n",
    "\n",
    "for item in tree:\n",
    "    files = item[-1]\n",
    "    \n",
    "#если папка сожержит файлы и первый фаил data.csv \n",
    "\n",
    "    if len(files) > 0 and target_files in files:\n",
    "        path= os.path.join(item[0], target_files)\n",
    "        data_files.append(path)\n",
    "        \n",
    "        \n",
    "# Вызовем через переменную tree заново os.walk\n",
    "# создадим переменную data_files, куда мы будем складывать все наши полученные файлы\n",
    "# так же создаём переменную target_dile, где будем хранить название интересующего нас файла\n",
    "# зададим цикл for в котором мы будем последовательно для каждого из элементов последовательности tree\n",
    "# в переменную files мы выделим специально последний элемент из кортежа с помощью индексации [-1]\n",
    "# далее мы говорим - если длинна списка файлов у нас БОЛЬШЕ < 0 и если в нашей папке есть целевой файл\n",
    "# тоесть если среди элементов списка есть то значение, которое соответствует нашему data.scv \n",
    "# то необходимо сохранить наш путь \n",
    "# так же есть удобная функция os.path.join которая поможет скомбинировать кусочки которые нам необходимы,\n",
    "# и она сама обработает необходимые данные, добавит слэши в нужные места и т.д.\n",
    "# и в итоге с помощью метода append мы будем сохранять наш путь в data_files, который далее будем\n",
    "# использовать для чтения данных"
   ]
  },
  {
   "cell_type": "code",
   "execution_count": 4,
   "metadata": {},
   "outputs": [
    {
     "data": {
      "text/plain": [
       "['/mnt/HC_Volume_18315164/home-jupyter/jupyter-i-karamnov-39/shared/homeworks/python_ds_miniprojects/4/data/2020-12-05/Petr_Ivanov/data.csv',\n",
       " '/mnt/HC_Volume_18315164/home-jupyter/jupyter-i-karamnov-39/shared/homeworks/python_ds_miniprojects/4/data/2020-12-05/Petr_Smirnov/data.csv',\n",
       " '/mnt/HC_Volume_18315164/home-jupyter/jupyter-i-karamnov-39/shared/homeworks/python_ds_miniprojects/4/data/2020-12-05/Rostislav_Smirnov/data.csv',\n",
       " '/mnt/HC_Volume_18315164/home-jupyter/jupyter-i-karamnov-39/shared/homeworks/python_ds_miniprojects/4/data/2020-12-05/Kirill_Smirnov/data.csv',\n",
       " '/mnt/HC_Volume_18315164/home-jupyter/jupyter-i-karamnov-39/shared/homeworks/python_ds_miniprojects/4/data/2020-12-05/Alexey_Fedorov/data.csv',\n",
       " '/mnt/HC_Volume_18315164/home-jupyter/jupyter-i-karamnov-39/shared/homeworks/python_ds_miniprojects/4/data/2020-12-05/Alexey_Petrov/data.csv',\n",
       " '/mnt/HC_Volume_18315164/home-jupyter/jupyter-i-karamnov-39/shared/homeworks/python_ds_miniprojects/4/data/2020-12-08/Petr_Petrov/data.csv',\n",
       " '/mnt/HC_Volume_18315164/home-jupyter/jupyter-i-karamnov-39/shared/homeworks/python_ds_miniprojects/4/data/2020-12-08/Rostislav_Petrov/data.csv',\n",
       " '/mnt/HC_Volume_18315164/home-jupyter/jupyter-i-karamnov-39/shared/homeworks/python_ds_miniprojects/4/data/2020-12-08/Kirill_Smirnov/data.csv',\n",
       " '/mnt/HC_Volume_18315164/home-jupyter/jupyter-i-karamnov-39/shared/homeworks/python_ds_miniprojects/4/data/2020-12-08/Alexey_Fedorov/data.csv',\n",
       " '/mnt/HC_Volume_18315164/home-jupyter/jupyter-i-karamnov-39/shared/homeworks/python_ds_miniprojects/4/data/2020-12-08/Anton_Smirnov/data.csv',\n",
       " '/mnt/HC_Volume_18315164/home-jupyter/jupyter-i-karamnov-39/shared/homeworks/python_ds_miniprojects/4/data/2020-12-09/Alexey_Smirnov/data.csv',\n",
       " '/mnt/HC_Volume_18315164/home-jupyter/jupyter-i-karamnov-39/shared/homeworks/python_ds_miniprojects/4/data/2020-12-09/Anton_Petrov/data.csv',\n",
       " '/mnt/HC_Volume_18315164/home-jupyter/jupyter-i-karamnov-39/shared/homeworks/python_ds_miniprojects/4/data/2020-12-09/Rostislav_Petrov/data.csv',\n",
       " '/mnt/HC_Volume_18315164/home-jupyter/jupyter-i-karamnov-39/shared/homeworks/python_ds_miniprojects/4/data/2020-12-09/Anton_Smirnov/data.csv',\n",
       " '/mnt/HC_Volume_18315164/home-jupyter/jupyter-i-karamnov-39/shared/homeworks/python_ds_miniprojects/4/data/2020-12-09/Anton_Ivanov/data.csv',\n",
       " '/mnt/HC_Volume_18315164/home-jupyter/jupyter-i-karamnov-39/shared/homeworks/python_ds_miniprojects/4/data/2020-12-09/Petr_Fedorov/data.csv',\n",
       " '/mnt/HC_Volume_18315164/home-jupyter/jupyter-i-karamnov-39/shared/homeworks/python_ds_miniprojects/4/data/2020-12-09/Vasiliy_Ivanov/data.csv',\n",
       " '/mnt/HC_Volume_18315164/home-jupyter/jupyter-i-karamnov-39/shared/homeworks/python_ds_miniprojects/4/data/2020-12-04/Kirill_Fedorov/data.csv',\n",
       " '/mnt/HC_Volume_18315164/home-jupyter/jupyter-i-karamnov-39/shared/homeworks/python_ds_miniprojects/4/data/2020-12-04/Alexey_Smirnov/data.csv',\n",
       " '/mnt/HC_Volume_18315164/home-jupyter/jupyter-i-karamnov-39/shared/homeworks/python_ds_miniprojects/4/data/2020-12-04/Rostislav_Ivanov/data.csv',\n",
       " '/mnt/HC_Volume_18315164/home-jupyter/jupyter-i-karamnov-39/shared/homeworks/python_ds_miniprojects/4/data/2020-12-04/Petr_Ivanov/data.csv',\n",
       " '/mnt/HC_Volume_18315164/home-jupyter/jupyter-i-karamnov-39/shared/homeworks/python_ds_miniprojects/4/data/2020-12-04/Rostislav_Fedorov/data.csv',\n",
       " '/mnt/HC_Volume_18315164/home-jupyter/jupyter-i-karamnov-39/shared/homeworks/python_ds_miniprojects/4/data/2020-12-04/Petr_Smirnov/data.csv',\n",
       " '/mnt/HC_Volume_18315164/home-jupyter/jupyter-i-karamnov-39/shared/homeworks/python_ds_miniprojects/4/data/2020-12-04/Rostislav_Smirnov/data.csv',\n",
       " '/mnt/HC_Volume_18315164/home-jupyter/jupyter-i-karamnov-39/shared/homeworks/python_ds_miniprojects/4/data/2020-12-04/Petr_Fedorov/data.csv',\n",
       " '/mnt/HC_Volume_18315164/home-jupyter/jupyter-i-karamnov-39/shared/homeworks/python_ds_miniprojects/4/data/2020-12-04/Vasiliy_Ivanov/data.csv',\n",
       " '/mnt/HC_Volume_18315164/home-jupyter/jupyter-i-karamnov-39/shared/homeworks/python_ds_miniprojects/4/data/2020-12-06/Vasiliy_Fedorov/data.csv',\n",
       " '/mnt/HC_Volume_18315164/home-jupyter/jupyter-i-karamnov-39/shared/homeworks/python_ds_miniprojects/4/data/2020-12-03/Alexey_Smirnov/data.csv',\n",
       " '/mnt/HC_Volume_18315164/home-jupyter/jupyter-i-karamnov-39/shared/homeworks/python_ds_miniprojects/4/data/2020-12-03/Anton_Petrov/data.csv',\n",
       " '/mnt/HC_Volume_18315164/home-jupyter/jupyter-i-karamnov-39/shared/homeworks/python_ds_miniprojects/4/data/2020-12-03/Vasiliy_Petrov/data.csv',\n",
       " '/mnt/HC_Volume_18315164/home-jupyter/jupyter-i-karamnov-39/shared/homeworks/python_ds_miniprojects/4/data/2020-12-03/Kirill_Petrov/data.csv',\n",
       " '/mnt/HC_Volume_18315164/home-jupyter/jupyter-i-karamnov-39/shared/homeworks/python_ds_miniprojects/4/data/2020-12-03/Petr_Fedorov/data.csv',\n",
       " '/mnt/HC_Volume_18315164/home-jupyter/jupyter-i-karamnov-39/shared/homeworks/python_ds_miniprojects/4/data/2020-12-03/Vasiliy_Ivanov/data.csv',\n",
       " '/mnt/HC_Volume_18315164/home-jupyter/jupyter-i-karamnov-39/shared/homeworks/python_ds_miniprojects/4/data/2020-12-07/Kirill_Fedorov/data.csv',\n",
       " '/mnt/HC_Volume_18315164/home-jupyter/jupyter-i-karamnov-39/shared/homeworks/python_ds_miniprojects/4/data/2020-12-07/Alexey_Smirnov/data.csv',\n",
       " '/mnt/HC_Volume_18315164/home-jupyter/jupyter-i-karamnov-39/shared/homeworks/python_ds_miniprojects/4/data/2020-12-07/Rostislav_Fedorov/data.csv',\n",
       " '/mnt/HC_Volume_18315164/home-jupyter/jupyter-i-karamnov-39/shared/homeworks/python_ds_miniprojects/4/data/2020-12-07/Alexey_Ivanov/data.csv',\n",
       " '/mnt/HC_Volume_18315164/home-jupyter/jupyter-i-karamnov-39/shared/homeworks/python_ds_miniprojects/4/data/2020-12-07/Petr_Smirnov/data.csv',\n",
       " '/mnt/HC_Volume_18315164/home-jupyter/jupyter-i-karamnov-39/shared/homeworks/python_ds_miniprojects/4/data/2020-12-07/Alexey_Fedorov/data.csv',\n",
       " '/mnt/HC_Volume_18315164/home-jupyter/jupyter-i-karamnov-39/shared/homeworks/python_ds_miniprojects/4/data/2020-12-07/Anton_Smirnov/data.csv',\n",
       " '/mnt/HC_Volume_18315164/home-jupyter/jupyter-i-karamnov-39/shared/homeworks/python_ds_miniprojects/4/data/2020-12-07/Anton_Ivanov/data.csv',\n",
       " '/mnt/HC_Volume_18315164/home-jupyter/jupyter-i-karamnov-39/shared/homeworks/python_ds_miniprojects/4/data/2020-12-07/Petr_Fedorov/data.csv',\n",
       " '/mnt/HC_Volume_18315164/home-jupyter/jupyter-i-karamnov-39/shared/homeworks/python_ds_miniprojects/4/data/2020-12-07/Vasiliy_Ivanov/data.csv']"
      ]
     },
     "execution_count": 4,
     "metadata": {},
     "output_type": "execute_result"
    }
   ],
   "source": [
    "data_files"
   ]
  },
  {
   "cell_type": "code",
   "execution_count": 10,
   "metadata": {},
   "outputs": [],
   "source": [
    "data_files_df = []\n",
    "\n",
    "for path in data_files:\n",
    "    df = pd.read_csv(path, index_col=0)\n",
    "    date, name = path.split('/')[10:12]\n",
    "    df['name']= name\n",
    "    df['date']= date \n",
    "    data_files_df.append(df)\n",
    "# создав новый список data_files_df, мы каждый раз будем сохранять новый список именно туда\n",
    "# по всем своим путям мы будем итерироваться по циклу for и каждый верхний набор данных мы будем читать\n",
    "# делать мы это будем при помощи read_csv указывая в качестве агрумента текущий путь path\n",
    "# а так же посмотрев выше на данные, мы увидели что у нас есть колонка, которая отвечает\n",
    "# за номер строки, по этому что бы избежать самовольного изменения датафрейма добавляем index_col = 0\n",
    "# далее из всегог пути нам необходимо выделить дату и имя в данном случае мы будем использовать\n",
    "# строковые методы .split который позволяет разделить строку по тому, что мы передадим в качестве аргумента ('/')\n",
    "# и если мы посмотрим на наш путь, то чётко увидим что наш путь можно разделить по data/2020-12-08/alexey итд\n",
    "# тоесть наша строка превратиться в список из четырёх элементов, далее мы обращаемся к срезу и берём из списка\n",
    "# все элементы с первого по второй включительно [10:12] последний индекс что передаётся в квадратные скобки\n",
    "# не используется в работе\n",
    "# тем самым мы вырезали 2 элемента из списка. первый из них уйдёт в date, а второй в name\n",
    "# далее мы создадим новые колонки в датафрейме что мы считали и назовём их name и date\n",
    "# и эти значения мы сохраним методом append в тот файл, который сейчас хранится в df"
   ]
  },
  {
   "cell_type": "code",
   "execution_count": 12,
   "metadata": {},
   "outputs": [
    {
     "data": {
      "text/html": [
       "<div>\n",
       "<style scoped>\n",
       "    .dataframe tbody tr th:only-of-type {\n",
       "        vertical-align: middle;\n",
       "    }\n",
       "\n",
       "    .dataframe tbody tr th {\n",
       "        vertical-align: top;\n",
       "    }\n",
       "\n",
       "    .dataframe thead th {\n",
       "        text-align: right;\n",
       "    }\n",
       "</style>\n",
       "<table border=\"1\" class=\"dataframe\">\n",
       "  <thead>\n",
       "    <tr style=\"text-align: right;\">\n",
       "      <th></th>\n",
       "      <th>product_id</th>\n",
       "      <th>quantity</th>\n",
       "      <th>name</th>\n",
       "      <th>date</th>\n",
       "    </tr>\n",
       "  </thead>\n",
       "  <tbody>\n",
       "    <tr>\n",
       "      <th>0</th>\n",
       "      <td>27</td>\n",
       "      <td>4</td>\n",
       "      <td>Petr_Ivanov</td>\n",
       "      <td>2020-12-05</td>\n",
       "    </tr>\n",
       "    <tr>\n",
       "      <th>1</th>\n",
       "      <td>89</td>\n",
       "      <td>1</td>\n",
       "      <td>Petr_Ivanov</td>\n",
       "      <td>2020-12-05</td>\n",
       "    </tr>\n",
       "    <tr>\n",
       "      <th>2</th>\n",
       "      <td>33</td>\n",
       "      <td>2</td>\n",
       "      <td>Petr_Ivanov</td>\n",
       "      <td>2020-12-05</td>\n",
       "    </tr>\n",
       "    <tr>\n",
       "      <th>3</th>\n",
       "      <td>8</td>\n",
       "      <td>3</td>\n",
       "      <td>Petr_Ivanov</td>\n",
       "      <td>2020-12-05</td>\n",
       "    </tr>\n",
       "    <tr>\n",
       "      <th>4</th>\n",
       "      <td>16</td>\n",
       "      <td>1</td>\n",
       "      <td>Petr_Ivanov</td>\n",
       "      <td>2020-12-05</td>\n",
       "    </tr>\n",
       "  </tbody>\n",
       "</table>\n",
       "</div>"
      ],
      "text/plain": [
       "   product_id  quantity         name        date\n",
       "0          27         4  Petr_Ivanov  2020-12-05\n",
       "1          89         1  Petr_Ivanov  2020-12-05\n",
       "2          33         2  Petr_Ivanov  2020-12-05\n",
       "3           8         3  Petr_Ivanov  2020-12-05\n",
       "4          16         1  Petr_Ivanov  2020-12-05"
      ]
     },
     "execution_count": 12,
     "metadata": {},
     "output_type": "execute_result"
    }
   ],
   "source": [
    "data_files_df[0].head()"
   ]
  },
  {
   "cell_type": "code",
   "execution_count": 13,
   "metadata": {},
   "outputs": [],
   "source": [
    "data=pd.concat(data_files_df, ignore_index=False)"
   ]
  },
  {
   "cell_type": "code",
   "execution_count": 15,
   "metadata": {},
   "outputs": [
    {
     "data": {
      "text/html": [
       "<div>\n",
       "<style scoped>\n",
       "    .dataframe tbody tr th:only-of-type {\n",
       "        vertical-align: middle;\n",
       "    }\n",
       "\n",
       "    .dataframe tbody tr th {\n",
       "        vertical-align: top;\n",
       "    }\n",
       "\n",
       "    .dataframe thead th {\n",
       "        text-align: right;\n",
       "    }\n",
       "</style>\n",
       "<table border=\"1\" class=\"dataframe\">\n",
       "  <thead>\n",
       "    <tr style=\"text-align: right;\">\n",
       "      <th></th>\n",
       "      <th>product_id</th>\n",
       "      <th>quantity</th>\n",
       "      <th>name</th>\n",
       "      <th>date</th>\n",
       "    </tr>\n",
       "  </thead>\n",
       "  <tbody>\n",
       "    <tr>\n",
       "      <th>0</th>\n",
       "      <td>27</td>\n",
       "      <td>4</td>\n",
       "      <td>Petr_Ivanov</td>\n",
       "      <td>2020-12-05</td>\n",
       "    </tr>\n",
       "    <tr>\n",
       "      <th>1</th>\n",
       "      <td>89</td>\n",
       "      <td>1</td>\n",
       "      <td>Petr_Ivanov</td>\n",
       "      <td>2020-12-05</td>\n",
       "    </tr>\n",
       "    <tr>\n",
       "      <th>2</th>\n",
       "      <td>33</td>\n",
       "      <td>2</td>\n",
       "      <td>Petr_Ivanov</td>\n",
       "      <td>2020-12-05</td>\n",
       "    </tr>\n",
       "    <tr>\n",
       "      <th>3</th>\n",
       "      <td>8</td>\n",
       "      <td>3</td>\n",
       "      <td>Petr_Ivanov</td>\n",
       "      <td>2020-12-05</td>\n",
       "    </tr>\n",
       "    <tr>\n",
       "      <th>4</th>\n",
       "      <td>16</td>\n",
       "      <td>1</td>\n",
       "      <td>Petr_Ivanov</td>\n",
       "      <td>2020-12-05</td>\n",
       "    </tr>\n",
       "    <tr>\n",
       "      <th>0</th>\n",
       "      <td>55</td>\n",
       "      <td>3</td>\n",
       "      <td>Petr_Smirnov</td>\n",
       "      <td>2020-12-05</td>\n",
       "    </tr>\n",
       "    <tr>\n",
       "      <th>1</th>\n",
       "      <td>49</td>\n",
       "      <td>3</td>\n",
       "      <td>Petr_Smirnov</td>\n",
       "      <td>2020-12-05</td>\n",
       "    </tr>\n",
       "    <tr>\n",
       "      <th>2</th>\n",
       "      <td>22</td>\n",
       "      <td>5</td>\n",
       "      <td>Petr_Smirnov</td>\n",
       "      <td>2020-12-05</td>\n",
       "    </tr>\n",
       "    <tr>\n",
       "      <th>3</th>\n",
       "      <td>83</td>\n",
       "      <td>4</td>\n",
       "      <td>Petr_Smirnov</td>\n",
       "      <td>2020-12-05</td>\n",
       "    </tr>\n",
       "    <tr>\n",
       "      <th>0</th>\n",
       "      <td>66</td>\n",
       "      <td>2</td>\n",
       "      <td>Rostislav_Smirnov</td>\n",
       "      <td>2020-12-05</td>\n",
       "    </tr>\n",
       "  </tbody>\n",
       "</table>\n",
       "</div>"
      ],
      "text/plain": [
       "   product_id  quantity               name        date\n",
       "0          27         4        Petr_Ivanov  2020-12-05\n",
       "1          89         1        Petr_Ivanov  2020-12-05\n",
       "2          33         2        Petr_Ivanov  2020-12-05\n",
       "3           8         3        Petr_Ivanov  2020-12-05\n",
       "4          16         1        Petr_Ivanov  2020-12-05\n",
       "0          55         3       Petr_Smirnov  2020-12-05\n",
       "1          49         3       Petr_Smirnov  2020-12-05\n",
       "2          22         5       Petr_Smirnov  2020-12-05\n",
       "3          83         4       Petr_Smirnov  2020-12-05\n",
       "0          66         2  Rostislav_Smirnov  2020-12-05"
      ]
     },
     "execution_count": 15,
     "metadata": {},
     "output_type": "execute_result"
    }
   ],
   "source": [
    "data.head(10)"
   ]
  },
  {
   "cell_type": "code",
   "execution_count": 17,
   "metadata": {},
   "outputs": [
    {
     "data": {
      "text/plain": [
       "480"
      ]
     },
     "execution_count": 17,
     "metadata": {},
     "output_type": "execute_result"
    }
   ],
   "source": [
    "data['quantity'].sum()"
   ]
  },
  {
   "cell_type": "code",
   "execution_count": null,
   "metadata": {},
   "outputs": [],
   "source": []
  },
  {
   "cell_type": "code",
   "execution_count": 26,
   "metadata": {},
   "outputs": [
    {
     "data": {
      "text/plain": [
       "name\n",
       "Alexey_Fedorov       24\n",
       "Alexey_Ivanov        17\n",
       "Alexey_Petrov         7\n",
       "Alexey_Smirnov       52\n",
       "Anton_Ivanov         23\n",
       "Anton_Petrov         18\n",
       "Anton_Smirnov        45\n",
       "Kirill_Fedorov       28\n",
       "Kirill_Petrov         9\n",
       "Kirill_Smirnov       17\n",
       "Petr_Fedorov         34\n",
       "Petr_Ivanov          21\n",
       "Petr_Petrov          14\n",
       "Petr_Smirnov         52\n",
       "Rostislav_Fedorov    16\n",
       "Rostislav_Ivanov      9\n",
       "Rostislav_Petrov     28\n",
       "Rostislav_Smirnov    17\n",
       "Vasiliy_Fedorov      15\n",
       "Vasiliy_Ivanov       27\n",
       "Vasiliy_Petrov        7\n",
       "Name: quantity, dtype: int64"
      ]
     },
     "execution_count": 26,
     "metadata": {},
     "output_type": "execute_result"
    }
   ],
   "source": [
    "quantitiy_blok=data.groupby('name')\\\n",
    "                .quantity.sum()\n",
    "quantitiy_blok"
   ]
  },
  {
   "cell_type": "code",
   "execution_count": 27,
   "metadata": {},
   "outputs": [
    {
     "data": {
      "text/plain": [
       "52"
      ]
     },
     "execution_count": 27,
     "metadata": {},
     "output_type": "execute_result"
    }
   ],
   "source": [
    "quantitiy_blok.max()"
   ]
  },
  {
   "cell_type": "markdown",
   "metadata": {},
   "source": [
    "Найдите топ-10 товаров по числу проданных единиц за всё время и постройте барплот (столбчатую диаграмму, sns.barplot), где:\n",
    "\n",
    "по оси x – идентификаторы товаров (product_id) \n",
    "по оси y – суммарное число их покупок (сколько товаров с таким product_id было продано)\n",
    "Для практики попробуйте изменить параметры графика: цвет (color), прозрачность (alpha), сортировку значений по оси х (order). \n",
    "\n",
    "В качестве ответа укажите, сколько было продано единиц товара с product_id равным 56"
   ]
  },
  {
   "cell_type": "markdown",
   "metadata": {},
   "source": [
    "- **Как делать это задание?**\n",
    "    \n",
    "    Сгруппируйте данные по товарам (`product_id`) и посчитайте для каждого товара сумму по числу заказов (`quantity`). Для визуализации используйте `sns.barplot`\n",
    "    \n",
    "- **Как считать сумму?**\n",
    "    \n",
    "    Используйте метод `sum` в агрегации\n",
    "    \n",
    "- **Построение барплота**\n",
    "    \n",
    "    Для построения нужного графика импортируйте `seaborn` и вызовите `sns.barplot`, указав там нужные x и y. Например,\n",
    "    \n",
    "    ```python\n",
    "    sns.barplot(x=df.col_x, y=df.col_y)\n",
    "    ```\n",
    "    \n",
    "    построит график с соответствующими координатами x и y из колонок `col_x` и `col_y` для столбиков.\n",
    "    \n",
    "    Альтернативно можно указать в x и y только названия нужных колонок в кавычках, а также передать в `data` переменную с датафрэймом\n",
    "    \n",
    "    ```python\n",
    "    sns.barplot(x='col_x', y='col_y', data=df)\n",
    "    ```\n",
    "    \n",
    "- **Как указать цвет и другие методы?**\n",
    "    \n",
    "    Чтобы указать эти параметры, введите их в функции `sns.barplot`. Формат можно посмотреть в документации или разборе"
   ]
  },
  {
   "cell_type": "code",
   "execution_count": 94,
   "metadata": {},
   "outputs": [],
   "source": [
    "produkt_som=data.groupby('product_id', as_index=False).quantity.sum()"
   ]
  },
  {
   "cell_type": "code",
   "execution_count": 97,
   "metadata": {},
   "outputs": [],
   "source": [
    "produkt_som = produkt_som.sort_values('quantity', ascending=False).head(10)"
   ]
  },
  {
   "cell_type": "code",
   "execution_count": 98,
   "metadata": {},
   "outputs": [
    {
     "data": {
      "text/html": [
       "<div>\n",
       "<style scoped>\n",
       "    .dataframe tbody tr th:only-of-type {\n",
       "        vertical-align: middle;\n",
       "    }\n",
       "\n",
       "    .dataframe tbody tr th {\n",
       "        vertical-align: top;\n",
       "    }\n",
       "\n",
       "    .dataframe thead th {\n",
       "        text-align: right;\n",
       "    }\n",
       "</style>\n",
       "<table border=\"1\" class=\"dataframe\">\n",
       "  <thead>\n",
       "    <tr style=\"text-align: right;\">\n",
       "      <th></th>\n",
       "      <th>product_id</th>\n",
       "      <th>quantity</th>\n",
       "    </tr>\n",
       "  </thead>\n",
       "  <tbody>\n",
       "    <tr>\n",
       "      <th>22</th>\n",
       "      <td>27</td>\n",
       "      <td>20</td>\n",
       "    </tr>\n",
       "    <tr>\n",
       "      <th>42</th>\n",
       "      <td>56</td>\n",
       "      <td>18</td>\n",
       "    </tr>\n",
       "    <tr>\n",
       "      <th>21</th>\n",
       "      <td>24</td>\n",
       "      <td>15</td>\n",
       "    </tr>\n",
       "    <tr>\n",
       "      <th>51</th>\n",
       "      <td>74</td>\n",
       "      <td>15</td>\n",
       "    </tr>\n",
       "    <tr>\n",
       "      <th>32</th>\n",
       "      <td>41</td>\n",
       "      <td>14</td>\n",
       "    </tr>\n",
       "    <tr>\n",
       "      <th>27</th>\n",
       "      <td>34</td>\n",
       "      <td>13</td>\n",
       "    </tr>\n",
       "    <tr>\n",
       "      <th>66</th>\n",
       "      <td>94</td>\n",
       "      <td>13</td>\n",
       "    </tr>\n",
       "    <tr>\n",
       "      <th>46</th>\n",
       "      <td>66</td>\n",
       "      <td>13</td>\n",
       "    </tr>\n",
       "    <tr>\n",
       "      <th>65</th>\n",
       "      <td>92</td>\n",
       "      <td>12</td>\n",
       "    </tr>\n",
       "    <tr>\n",
       "      <th>38</th>\n",
       "      <td>50</td>\n",
       "      <td>12</td>\n",
       "    </tr>\n",
       "  </tbody>\n",
       "</table>\n",
       "</div>"
      ],
      "text/plain": [
       "    product_id  quantity\n",
       "22          27        20\n",
       "42          56        18\n",
       "21          24        15\n",
       "51          74        15\n",
       "32          41        14\n",
       "27          34        13\n",
       "66          94        13\n",
       "46          66        13\n",
       "65          92        12\n",
       "38          50        12"
      ]
     },
     "execution_count": 98,
     "metadata": {},
     "output_type": "execute_result"
    }
   ],
   "source": [
    "produkt_som"
   ]
  },
  {
   "cell_type": "code",
   "execution_count": 109,
   "metadata": {},
   "outputs": [
    {
     "data": {
      "text/plain": [
       "<matplotlib.axes._subplots.AxesSubplot at 0x7f729f902860>"
      ]
     },
     "execution_count": 109,
     "metadata": {},
     "output_type": "execute_result"
    },
    {
     "data": {
      "image/png": "[encoded data removed]",
      "text/plain": [
       "<Figure size 1224x576 with 1 Axes>"
      ]
     },
     "metadata": {
      "needs_background": "light"
     },
     "output_type": "display_data"
    }
   ],
   "source": [
    "fig, ax = plt.subplots(figsize=(17,8))\n",
    "sns.barplot(data=produkt_som.head(10) , x='product_id', y='quantity', \n",
    "           order=produkt_som.sort_values('quantity', ascending=False).product_id, ax=ax)\n",
    "\n",
    "\n",
    "# теперь наша задача в том, что бы визуализировать сколько было продано товаров по нашим product_id\n",
    "# первым делом создадим параметры отображения фигуры задав fig - фигура, \n",
    "# ax - переменная plt.subplots(Параметр фигуры(размеры))\n",
    "# из библиотеки seaborn мы будем использовать barplot в который передадим данные sns.barplot(файл=датафрейм).head(10)\n",
    "# где x-колонка 'product_id' где y - колонка 'quantity'\n",
    "# так же для красоты мы отсортируем отображение по колличеству \n",
    "# проданных элементов order=переменная.сортировкаПО('колонке quantity').колонке product_id \n",
    "# так же пропишем что хотим рисовать график на осях которые хранятся в обЪекте ax прописав ax=ax"
   ]
  },
  {
   "cell_type": "code",
   "execution_count": 106,
   "metadata": {},
   "outputs": [
    {
     "data": {
      "text/html": [
       "<div>\n",
       "<style scoped>\n",
       "    .dataframe tbody tr th:only-of-type {\n",
       "        vertical-align: middle;\n",
       "    }\n",
       "\n",
       "    .dataframe tbody tr th {\n",
       "        vertical-align: top;\n",
       "    }\n",
       "\n",
       "    .dataframe thead th {\n",
       "        text-align: right;\n",
       "    }\n",
       "</style>\n",
       "<table border=\"1\" class=\"dataframe\">\n",
       "  <thead>\n",
       "    <tr style=\"text-align: right;\">\n",
       "      <th></th>\n",
       "      <th>product_id</th>\n",
       "      <th>quantity</th>\n",
       "    </tr>\n",
       "  </thead>\n",
       "  <tbody>\n",
       "    <tr>\n",
       "      <th>42</th>\n",
       "      <td>56</td>\n",
       "      <td>18</td>\n",
       "    </tr>\n",
       "  </tbody>\n",
       "</table>\n",
       "</div>"
      ],
      "text/plain": [
       "    product_id  quantity\n",
       "42          56        18"
      ]
     },
     "execution_count": 106,
     "metadata": {},
     "output_type": "execute_result"
    }
   ],
   "source": [
    "produkt_som.loc[produkt_som.product_id == 56]"
   ]
  },
  {
   "cell_type": "markdown",
   "metadata": {},
   "source": [
    "Посмотрим на продажи по дням! Для визуализации снова используйте барплот, только теперь по оси x будут дни, по которым у нас есть данные (date). Далее выберите верные утверждения:"
   ]
  },
  {
   "cell_type": "markdown",
   "metadata": {},
   "source": [
    "- **Как делать это задание?**\n",
    "    \n",
    "    Сгруппируйте данные по датам (`date`) и посчитайте для каждого дня сумму по числу заказов (`quantity`). Для визуализации используйте `sns.barplot`\n",
    "    \n",
    "- **Как считать сумму?**\n",
    "    \n",
    "    Используйте метод `sum` в агрегации\n",
    "    \n",
    "- **У меня получается, что всё купили в один день**\n",
    "    \n",
    "    Проверьте, что вы правильно добавляли даты во временные датафрэймы в первом задании. Возможно вы взяли дату только один раз на все файлы, либо задали её только один раз\n",
    "    \n",
    "- **Построение барплота**\n",
    "    \n",
    "    Для построения нужного графика импортируйте `seaborn` и вызовите `sns.barplot`, указав там нужные x и y. Например,\n",
    "    \n",
    "    ```python\n",
    "    sns.barplot(x=df.col_x, y=df.col_y)\n",
    "    ```\n",
    "    \n",
    "    построит график с соответствующими координатами x и y из колонок `col_x` и `col_y` для столбиков.\n",
    "    \n",
    "    Альтернативно можно указать в x и y только названия нужных колонок в кавычках, а также передать в `data` переменную с датафрэймом"
   ]
  },
  {
   "cell_type": "code",
   "execution_count": 112,
   "metadata": {},
   "outputs": [],
   "source": [
    "products_per_day = data.groupby('date', as_index=False).quantity.sum()"
   ]
  },
  {
   "cell_type": "code",
   "execution_count": 113,
   "metadata": {},
   "outputs": [
    {
     "data": {
      "text/html": [
       "<div>\n",
       "<style scoped>\n",
       "    .dataframe tbody tr th:only-of-type {\n",
       "        vertical-align: middle;\n",
       "    }\n",
       "\n",
       "    .dataframe tbody tr th {\n",
       "        vertical-align: top;\n",
       "    }\n",
       "\n",
       "    .dataframe thead th {\n",
       "        text-align: right;\n",
       "    }\n",
       "</style>\n",
       "<table border=\"1\" class=\"dataframe\">\n",
       "  <thead>\n",
       "    <tr style=\"text-align: right;\">\n",
       "      <th></th>\n",
       "      <th>date</th>\n",
       "      <th>quantity</th>\n",
       "    </tr>\n",
       "  </thead>\n",
       "  <tbody>\n",
       "    <tr>\n",
       "      <th>0</th>\n",
       "      <td>2020-12-03</td>\n",
       "      <td>60</td>\n",
       "    </tr>\n",
       "    <tr>\n",
       "      <th>1</th>\n",
       "      <td>2020-12-04</td>\n",
       "      <td>113</td>\n",
       "    </tr>\n",
       "    <tr>\n",
       "      <th>2</th>\n",
       "      <td>2020-12-05</td>\n",
       "      <td>61</td>\n",
       "    </tr>\n",
       "    <tr>\n",
       "      <th>3</th>\n",
       "      <td>2020-12-06</td>\n",
       "      <td>15</td>\n",
       "    </tr>\n",
       "    <tr>\n",
       "      <th>4</th>\n",
       "      <td>2020-12-07</td>\n",
       "      <td>94</td>\n",
       "    </tr>\n",
       "    <tr>\n",
       "      <th>5</th>\n",
       "      <td>2020-12-08</td>\n",
       "      <td>68</td>\n",
       "    </tr>\n",
       "    <tr>\n",
       "      <th>6</th>\n",
       "      <td>2020-12-09</td>\n",
       "      <td>69</td>\n",
       "    </tr>\n",
       "  </tbody>\n",
       "</table>\n",
       "</div>"
      ],
      "text/plain": [
       "         date  quantity\n",
       "0  2020-12-03        60\n",
       "1  2020-12-04       113\n",
       "2  2020-12-05        61\n",
       "3  2020-12-06        15\n",
       "4  2020-12-07        94\n",
       "5  2020-12-08        68\n",
       "6  2020-12-09        69"
      ]
     },
     "execution_count": 113,
     "metadata": {},
     "output_type": "execute_result"
    }
   ],
   "source": [
    "products_per_day"
   ]
  },
  {
   "cell_type": "code",
   "execution_count": 117,
   "metadata": {},
   "outputs": [
    {
     "data": {
      "text/plain": [
       "Text(0.5, 1.0, 'Покупки по дням')"
      ]
     },
     "execution_count": 117,
     "metadata": {},
     "output_type": "execute_result"
    },
    {
     "data": {
      "image/png": "[encoded data removed]",
      "text/plain": [
       "<Figure size 1224x576 with 1 Axes>"
      ]
     },
     "metadata": {
      "needs_background": "light"
     },
     "output_type": "display_data"
    }
   ],
   "source": [
    "fig, ax = plt.subplots(figsize=(17,8))\n",
    "sns.barplot(data=products_per_day.head(10) , x='date', y='quantity', \n",
    "           order=products_per_day.sort_values('quantity', ascending=False).date, ax=ax)\n",
    "ax.tick_params(axis='x', rotation=45)\n",
    "ax.set_title('Покупки по дням')"
   ]
  },
  {
   "cell_type": "markdown",
   "metadata": {},
   "source": [
    "💀 Сложное задание! 💀\n",
    "\n",
    "Сколько пользователей приобрели какой-либо товар повторно (более 1 раза)? Повтором будем считать покупку товара с одинаковым product_id, совершенную в разные дни. \n",
    "\n",
    "Например, пользователь Sasha Tsarev дважды приобрел товар 6. Поскольку покупка была совершена в один и тот же день, повторной в данном случае она считаться не будет. Katya Skriptsova также сделал две покупки товара 7, но в разные дни, поэтому этот случай засчитывается.\n",
    "    \n",
    "\n",
    "product_id quantity name              date\n",
    "25         2        Katya Skriptsova  2020-12-05\n",
    "54         1        Olya Silyutina    2020-12-05    \n",
    "7          4        Katya Skriptsova  2020-12-05  \n",
    "6          4        Sasha Tsarev      2020-12-06\n",
    "6          1        Sasha Tsarev      2020-12-06\n",
    "7          5        Katya Skriptsova  2020-12-06  \n",
    "Может пригодиться: .drop_duplicates()"
   ]
  },
  {
   "cell_type": "markdown",
   "metadata": {},
   "source": [
    "- **Как решать это задание?**\n",
    "    \n",
    "    Один из вариантов решения - удалить дубликаты по имени, продукту и дате. Это оставит только по одной строке на каждую покупку продукта в день. Затем нужно сгруппировать по колонкам `name` и `product_id` и посчитать число дней покупок каждого продукта для каждого человека (то есть число строк в группе). После этого отберите строки со значением больше 1, то есть только строки пользователей, купивших что-то в разные дни\n",
    "    \n",
    "- **Удаление дубликатов**\n",
    "    \n",
    "    Для удаления повторяющихся строк используется метод `drop_duplicates`. Под повторяющимися имеется в виду, что значения в этих строках во всех их колонках одинаковые\n",
    "    \n",
    "- **И как же их удалять?**\n",
    "    \n",
    "    Вызов вида\n",
    "    \n",
    "    ```python\n",
    "    df.drop_duplicates()\n",
    "    ```\n",
    "    \n",
    "    вернёт датафрэйм, где не будет повторяющихся строк. Чтобы смотреть на повторность не по всем столбцам, а только по части, воспользуйтесь параметром `subset`\n",
    "    \n",
    "    ```python\n",
    "    df.drop_duplicates(subset='my_unique_column')\n",
    "    ```\n",
    "    \n",
    "    вернёт датафрэйм, где не будет строк с одинаковым значением в колонке `my_unique_column`"
   ]
  },
  {
   "cell_type": "code",
   "execution_count": 118,
   "metadata": {},
   "outputs": [],
   "source": [
    "duble_2=data.drop_duplicates(['product_id', 'name', 'date'])"
   ]
  },
  {
   "cell_type": "code",
   "execution_count": 120,
   "metadata": {},
   "outputs": [],
   "source": [
    "duble=data.drop_duplicates(subset=['product_id', 'name', 'date'])"
   ]
  },
  {
   "cell_type": "code",
   "execution_count": 121,
   "metadata": {},
   "outputs": [
    {
     "data": {
      "text/html": [
       "<div>\n",
       "<style scoped>\n",
       "    .dataframe tbody tr th:only-of-type {\n",
       "        vertical-align: middle;\n",
       "    }\n",
       "\n",
       "    .dataframe tbody tr th {\n",
       "        vertical-align: top;\n",
       "    }\n",
       "\n",
       "    .dataframe thead th {\n",
       "        text-align: right;\n",
       "    }\n",
       "</style>\n",
       "<table border=\"1\" class=\"dataframe\">\n",
       "  <thead>\n",
       "    <tr style=\"text-align: right;\">\n",
       "      <th></th>\n",
       "      <th>product_id</th>\n",
       "      <th>quantity</th>\n",
       "      <th>name</th>\n",
       "      <th>date</th>\n",
       "    </tr>\n",
       "  </thead>\n",
       "  <tbody>\n",
       "    <tr>\n",
       "      <th>0</th>\n",
       "      <td>27</td>\n",
       "      <td>4</td>\n",
       "      <td>Petr_Ivanov</td>\n",
       "      <td>2020-12-05</td>\n",
       "    </tr>\n",
       "    <tr>\n",
       "      <th>1</th>\n",
       "      <td>89</td>\n",
       "      <td>1</td>\n",
       "      <td>Petr_Ivanov</td>\n",
       "      <td>2020-12-05</td>\n",
       "    </tr>\n",
       "    <tr>\n",
       "      <th>2</th>\n",
       "      <td>33</td>\n",
       "      <td>2</td>\n",
       "      <td>Petr_Ivanov</td>\n",
       "      <td>2020-12-05</td>\n",
       "    </tr>\n",
       "    <tr>\n",
       "      <th>3</th>\n",
       "      <td>8</td>\n",
       "      <td>3</td>\n",
       "      <td>Petr_Ivanov</td>\n",
       "      <td>2020-12-05</td>\n",
       "    </tr>\n",
       "    <tr>\n",
       "      <th>4</th>\n",
       "      <td>16</td>\n",
       "      <td>1</td>\n",
       "      <td>Petr_Ivanov</td>\n",
       "      <td>2020-12-05</td>\n",
       "    </tr>\n",
       "  </tbody>\n",
       "</table>\n",
       "</div>"
      ],
      "text/plain": [
       "   product_id  quantity         name        date\n",
       "0          27         4  Petr_Ivanov  2020-12-05\n",
       "1          89         1  Petr_Ivanov  2020-12-05\n",
       "2          33         2  Petr_Ivanov  2020-12-05\n",
       "3           8         3  Petr_Ivanov  2020-12-05\n",
       "4          16         1  Petr_Ivanov  2020-12-05"
      ]
     },
     "execution_count": 121,
     "metadata": {},
     "output_type": "execute_result"
    }
   ],
   "source": [
    "duble.head(5)"
   ]
  },
  {
   "cell_type": "code",
   "execution_count": null,
   "metadata": {},
   "outputs": [],
   "source": []
  }
 ],
 "metadata": {
  "kernelspec": {
   "display_name": "Python 3",
   "language": "python",
   "name": "python3"
  },
  "language_info": {
   "codemirror_mode": {
    "name": "ipython",
    "version": 3
   },
   "file_extension": ".py",
   "mimetype": "text/x-python",
   "name": "python",
   "nbconvert_exporter": "python",
   "pygments_lexer": "ipython3",
   "version": "3.7.3"
  }
 },
 "nbformat": 4,
 "nbformat_minor": 4
}
