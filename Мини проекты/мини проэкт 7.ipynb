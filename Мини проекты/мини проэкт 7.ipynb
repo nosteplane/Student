{
 "cells": [
  {
   "cell_type": "code",
   "execution_count": 150,
   "metadata": {},
   "outputs": [],
   "source": [
    "import pandas as pd\n",
    "import os \n",
    "import seaborn as sns\n",
    "import matplotlib.pyplot as plt\n",
    "%matplotlib inline\n",
    "import plotly.express as px\n",
    "import matplotlib.pyplot as plt\n",
    "import numpy as np\n",
    "import requests\n",
    "from io import BytesIO\n",
    "import gspread\n",
    "from oauth2client.service_account import ServiceAccountCredentials"
   ]
  },
  {
   "cell_type": "markdown",
   "metadata": {},
   "source": [
    "-------------------------------------------------------------------------------------------------------------------------------\n",
    "                                             ОБРАЗЕЦ ВЫГРУЗКИ ДАННЫХ С ЯНДЕКС API\n",
    "-------------------------------------------------------------------------------------------------------------------------------\n",
    "url = 'http://***?'\n",
    "data = []\n",
    "\n",
    "for date in dates:\n",
    "    params['filters'] = f\"ym:s:date=='{date}'\"\n",
    "    visits_request = requests.get(url, params=params).json()\n",
    "    \n",
    "    for row in visits_request['data']:\n",
    "        dim = row['dimensions'][0]\n",
    "        dim['date'] = date\n",
    "        dim['metrics'] = row['metrics'][0]\n",
    "        data.append(dim)\n",
    "\n",
    "в этом образце представлен скрипт для одгрузки данных из яндекс API\\\n",
    "где в переменную url мы положим ссылку на наши данные в яндекс метрике\n",
    "эту ссылку мы будем использовать как основную, и к ней метод requests будет дописывать\n",
    "параметры уже самостоятельно\n",
    "и создадим пустой список, для того что бы по каждому дню записывать\n",
    "результаты запроса\n",
    "теперь разберёмся с запросами по датам\n",
    "скажем питону for data in dates: что означает для каждого значения data применить \n",
    "записаить в переменную dates\n",
    "далее применим переменную params где в скобки положим параметр ['filtres']\n",
    "в этом параметре можно указывать как диапазон дат, либо указать каждую дату отдельно\n",
    "как мы сделали в данном примере\n",
    "при этом в наш словарь params мы переписываем каждую дату, по ключу ['filtres']\n",
    "который добавляет дополнительное ограничение f\"ym:s:date=='{date}'\" и говорит о том\n",
    "что нам необходимо запросить только дату date=={date} которую мы сейчас обрабатываем\n",
    "далее при помощи библиотеки requests передаём запрос url и указываем необходимые\n",
    "параметры params=params и говорим что нас интересует только результат в формате .json()\n",
    "просто для того, что бы удобно доставать все наши данные\n",
    "\n",
    "\n",
    "а в visits_request есть возвращаемое значение нашего запроса по ключу ['data']\n",
    "в ней хранится некоторый набор данных который нам возвращается \n",
    "[('dimensions': (t'name's 'People!\n",
    "ne\n",
    "'date\": 2021-11-06%\n",
    "*** **,0519\n",
    "\"'metrics: ***,\n",
    "*\n",
    "нам необходимо достать то, что лежит по ключу data и это и будет результатом\n",
    "за запрашиваемый день \n",
    "мы можем заметить что внутри словаря [('dimensions лежат нужные нам значения\n",
    "которые нам нужно в следствии достать это id, date, metrics\n",
    "по этому for in для каждого элемента из списка по ключу ['data']\n",
    "мы будем доставать сначала ключ 'dimensions' потом уже из\n",
    "него будем брать нулевой [0] элемент из списка по ключу\n",
    "для того, что бы получить доступ к типу пользователя, дате и метрике \n",
    "так как это словарь [('dimensions': (t'name's 'People!\n",
    "                                    ne\n",
    "                                    'date\": 2021-11-06%\n",
    "                                     ****,**\n",
    "                                    \"'metrics: ***.*,\n",
    "мы можем в него дополнительно писать какие-либо ключи\n",
    "сейчас мы сохранили его в переменную dim\n",
    "порой яндекс метрика не возвращает дату, по этому мы пропишем ключ\n",
    "что dim['date'] равен date - ключу запроса\n",
    "и метрика тоже не всегда возвращается в 'dimensions'\n",
    "она записана отдельно, по этому мы так же явно пропишем дополнительно\n",
    "ключ dim['metrics'] равен ['metrics'] и добавим то, что нам возвращается по ключу ['metrics']\n",
    "и возьмём нулевой элемент [0]"
   ]
  },
  {
   "cell_type": "code",
   "execution_count": null,
   "metadata": {},
   "outputs": [],
   "source": []
  },
  {
   "cell_type": "markdown",
   "metadata": {},
   "source": [
    "Для начала, давайте посмотрим на распределение посещений сайта по дням. Постройте график с распределением количества посещений от ботов и обычных пользователей сайта Яндекс.Метрика."
   ]
  },
  {
   "cell_type": "code",
   "execution_count": 84,
   "metadata": {},
   "outputs": [],
   "source": [
    "dates = [date.strftime('%Y-%m-%d') for date in pd.date_range(start='2021-11-01', end='2021-11-06')]"
   ]
  },
  {
   "cell_type": "code",
   "execution_count": 85,
   "metadata": {},
   "outputs": [],
   "source": [
    "params = {'metrics': 'ym:s:visits',\n",
    "         'dimensions': 'ym:s:date',\n",
    "         'dimensions': 'ym:s:isRobot',\n",
    "         'id': '***'}"
   ]
  },
  {
   "cell_type": "code",
   "execution_count": 86,
   "metadata": {},
   "outputs": [],
   "source": [
    "data = pd.read_csv('/mnt/HC_Volume_18315164/home-jupyter/jupyter-i-karamnov-39/step_1_lesson_7.csv')"
   ]
  },
  {
   "cell_type": "code",
   "execution_count": 87,
   "metadata": {},
   "outputs": [
    {
     "data": {
      "text/plain": [
       "date          object\n",
       "user_type     object\n",
       "visits       float64\n",
       "dtype: object"
      ]
     },
     "execution_count": 87,
     "metadata": {},
     "output_type": "execute_result"
    }
   ],
   "source": [
    "data.dtypes"
   ]
  },
  {
   "cell_type": "code",
   "execution_count": 88,
   "metadata": {},
   "outputs": [
    {
     "data": {
      "text/html": [
       "<div>\n",
       "<style scoped>\n",
       "    .dataframe tbody tr th:only-of-type {\n",
       "        vertical-align: middle;\n",
       "    }\n",
       "\n",
       "    .dataframe tbody tr th {\n",
       "        vertical-align: top;\n",
       "    }\n",
       "\n",
       "    .dataframe thead th {\n",
       "        text-align: right;\n",
       "    }\n",
       "</style>\n",
       "<table border=\"1\" class=\"dataframe\">\n",
       "  <thead>\n",
       "    <tr style=\"text-align: right;\">\n",
       "      <th></th>\n",
       "      <th>date</th>\n",
       "      <th>user_type</th>\n",
       "      <th>visits</th>\n",
       "    </tr>\n",
       "  </thead>\n",
       "  <tbody>\n",
       "    <tr>\n",
       "      <th>0</th>\n",
       "      <td>2020-06-15</td>\n",
       "      <td>People</td>\n",
       "      <td>417.0</td>\n",
       "    </tr>\n",
       "    <tr>\n",
       "      <th>1</th>\n",
       "      <td>2020-06-15</td>\n",
       "      <td>Robots</td>\n",
       "      <td>177.0</td>\n",
       "    </tr>\n",
       "    <tr>\n",
       "      <th>2</th>\n",
       "      <td>2020-06-16</td>\n",
       "      <td>People</td>\n",
       "      <td>472.0</td>\n",
       "    </tr>\n",
       "    <tr>\n",
       "      <th>3</th>\n",
       "      <td>2020-06-16</td>\n",
       "      <td>Robots</td>\n",
       "      <td>91.0</td>\n",
       "    </tr>\n",
       "    <tr>\n",
       "      <th>4</th>\n",
       "      <td>2020-06-17</td>\n",
       "      <td>People</td>\n",
       "      <td>475.0</td>\n",
       "    </tr>\n",
       "    <tr>\n",
       "      <th>5</th>\n",
       "      <td>2020-06-17</td>\n",
       "      <td>Robots</td>\n",
       "      <td>138.0</td>\n",
       "    </tr>\n",
       "  </tbody>\n",
       "</table>\n",
       "</div>"
      ],
      "text/plain": [
       "         date user_type  visits\n",
       "0  2020-06-15    People   417.0\n",
       "1  2020-06-15    Robots   177.0\n",
       "2  2020-06-16    People   472.0\n",
       "3  2020-06-16    Robots    91.0\n",
       "4  2020-06-17    People   475.0\n",
       "5  2020-06-17    Robots   138.0"
      ]
     },
     "execution_count": 88,
     "metadata": {},
     "output_type": "execute_result"
    }
   ],
   "source": [
    "data"
   ]
  },
  {
   "cell_type": "code",
   "execution_count": 89,
   "metadata": {},
   "outputs": [
    {
     "data": {
      "text/plain": [
       "<matplotlib.axes._subplots.AxesSubplot at 0x7fef25fe53c8>"
      ]
     },
     "execution_count": 89,
     "metadata": {},
     "output_type": "execute_result"
    },
    {
     "data": {
      "image/png": "[encoded data removed]",
      "text/plain": [
       "<Figure size 720x432 with 1 Axes>"
      ]
     },
     "metadata": {
      "needs_background": "light"
     },
     "output_type": "display_data"
    }
   ],
   "source": [
    "fig, ax=plt.subplots(figsize=(10,6))\n",
    "sns.barplot(data=data, x='date', y='visits', hue='user_type', ax=ax)"
   ]
  },
  {
   "cell_type": "code",
   "execution_count": 90,
   "metadata": {},
   "outputs": [],
   "source": [
    "data_2 = pd.read_csv('/mnt/HC_Volume_18315164/home-jupyter/jupyter-i-karamnov-39/step_2_lesson_7.csv')"
   ]
  },
  {
   "cell_type": "code",
   "execution_count": 91,
   "metadata": {
    "scrolled": true
   },
   "outputs": [
    {
     "data": {
      "text/html": [
       "<div>\n",
       "<style scoped>\n",
       "    .dataframe tbody tr th:only-of-type {\n",
       "        vertical-align: middle;\n",
       "    }\n",
       "\n",
       "    .dataframe tbody tr th {\n",
       "        vertical-align: top;\n",
       "    }\n",
       "\n",
       "    .dataframe thead th {\n",
       "        text-align: right;\n",
       "    }\n",
       "</style>\n",
       "<table border=\"1\" class=\"dataframe\">\n",
       "  <thead>\n",
       "    <tr style=\"text-align: right;\">\n",
       "      <th></th>\n",
       "      <th>date</th>\n",
       "      <th>browser</th>\n",
       "      <th>visits</th>\n",
       "    </tr>\n",
       "  </thead>\n",
       "  <tbody>\n",
       "    <tr>\n",
       "      <th>0</th>\n",
       "      <td>2020-06-15</td>\n",
       "      <td>Google Chrome</td>\n",
       "      <td>354.0</td>\n",
       "    </tr>\n",
       "    <tr>\n",
       "      <th>1</th>\n",
       "      <td>2020-06-15</td>\n",
       "      <td>Firefox</td>\n",
       "      <td>58.0</td>\n",
       "    </tr>\n",
       "    <tr>\n",
       "      <th>2</th>\n",
       "      <td>2020-06-15</td>\n",
       "      <td>Yandex Browser</td>\n",
       "      <td>54.0</td>\n",
       "    </tr>\n",
       "    <tr>\n",
       "      <th>3</th>\n",
       "      <td>2020-06-15</td>\n",
       "      <td>Safari</td>\n",
       "      <td>41.0</td>\n",
       "    </tr>\n",
       "    <tr>\n",
       "      <th>4</th>\n",
       "      <td>2020-06-15</td>\n",
       "      <td>Chrome Mobile</td>\n",
       "      <td>31.0</td>\n",
       "    </tr>\n",
       "    <tr>\n",
       "      <th>5</th>\n",
       "      <td>2020-06-15</td>\n",
       "      <td>Opera</td>\n",
       "      <td>16.0</td>\n",
       "    </tr>\n",
       "    <tr>\n",
       "      <th>6</th>\n",
       "      <td>2020-06-15</td>\n",
       "      <td>Mobile Safari</td>\n",
       "      <td>16.0</td>\n",
       "    </tr>\n",
       "    <tr>\n",
       "      <th>7</th>\n",
       "      <td>2020-06-15</td>\n",
       "      <td>Samsung Internet</td>\n",
       "      <td>9.0</td>\n",
       "    </tr>\n",
       "    <tr>\n",
       "      <th>8</th>\n",
       "      <td>2020-06-15</td>\n",
       "      <td>Edge</td>\n",
       "      <td>5.0</td>\n",
       "    </tr>\n",
       "    <tr>\n",
       "      <th>9</th>\n",
       "      <td>2020-06-15</td>\n",
       "      <td>UCWEB</td>\n",
       "      <td>4.0</td>\n",
       "    </tr>\n",
       "    <tr>\n",
       "      <th>10</th>\n",
       "      <td>2020-06-15</td>\n",
       "      <td>Chromium</td>\n",
       "      <td>2.0</td>\n",
       "    </tr>\n",
       "    <tr>\n",
       "      <th>11</th>\n",
       "      <td>2020-06-15</td>\n",
       "      <td>Android Browser</td>\n",
       "      <td>1.0</td>\n",
       "    </tr>\n",
       "    <tr>\n",
       "      <th>12</th>\n",
       "      <td>2020-06-15</td>\n",
       "      <td>Yandex: mobile app</td>\n",
       "      <td>1.0</td>\n",
       "    </tr>\n",
       "    <tr>\n",
       "      <th>13</th>\n",
       "      <td>2020-06-15</td>\n",
       "      <td>Vivaldi</td>\n",
       "      <td>1.0</td>\n",
       "    </tr>\n",
       "    <tr>\n",
       "      <th>14</th>\n",
       "      <td>2020-06-15</td>\n",
       "      <td>CocCoc</td>\n",
       "      <td>1.0</td>\n",
       "    </tr>\n",
       "  </tbody>\n",
       "</table>\n",
       "</div>"
      ],
      "text/plain": [
       "          date             browser  visits\n",
       "0   2020-06-15       Google Chrome   354.0\n",
       "1   2020-06-15             Firefox    58.0\n",
       "2   2020-06-15      Yandex Browser    54.0\n",
       "3   2020-06-15              Safari    41.0\n",
       "4   2020-06-15       Chrome Mobile    31.0\n",
       "5   2020-06-15               Opera    16.0\n",
       "6   2020-06-15       Mobile Safari    16.0\n",
       "7   2020-06-15    Samsung Internet     9.0\n",
       "8   2020-06-15                Edge     5.0\n",
       "9   2020-06-15               UCWEB     4.0\n",
       "10  2020-06-15            Chromium     2.0\n",
       "11  2020-06-15     Android Browser     1.0\n",
       "12  2020-06-15  Yandex: mobile app     1.0\n",
       "13  2020-06-15             Vivaldi     1.0\n",
       "14  2020-06-15              CocCoc     1.0"
      ]
     },
     "execution_count": 91,
     "metadata": {},
     "output_type": "execute_result"
    }
   ],
   "source": [
    "data_2"
   ]
  },
  {
   "cell_type": "code",
   "execution_count": 92,
   "metadata": {},
   "outputs": [
    {
     "data": {
      "text/plain": [
       "354.0"
      ]
     },
     "execution_count": 92,
     "metadata": {},
     "output_type": "execute_result"
    }
   ],
   "source": [
    "data_2.loc[data_2.browser == 'Google Chrome'].visits.iloc[0]"
   ]
  },
  {
   "cell_type": "code",
   "execution_count": 93,
   "metadata": {},
   "outputs": [],
   "source": [
    "data_2_loc = data_2.loc[data_2.browser == 'Google Chrome']['visits'].iloc[0] / data_2.visits.sum() * 100"
   ]
  },
  {
   "cell_type": "code",
   "execution_count": 94,
   "metadata": {},
   "outputs": [
    {
     "data": {
      "text/plain": [
       "60.0"
      ]
     },
     "execution_count": 94,
     "metadata": {},
     "output_type": "execute_result"
    }
   ],
   "source": [
    "data_2_loc.round()"
   ]
  },
  {
   "cell_type": "markdown",
   "metadata": {},
   "source": [
    "Давайте выясним, с какого браузера приходит больше всего ботов. Посмотрите на данные и определите, у какого браузера самая большая доля посещений сайта ботами от общего числа посещений в этом браузере?\n",
    "- **Как решать это задание?**\n",
    "    \n",
    "    Сгруппируйте данные по браузерам и для каждого типа посчитайте сумму посещений (то есть все посещения, осуществлённые с этого браузера). Далее смёрджите этот датафрэйм с исходным по колонке с типом браузера. После этого разделите число посещений, разделённое по типу пользователя, на число посещений с этого браузера. То есть получите долю посещений от роботов и людей для каждого браузера. Потом возьмите браузер с максимальной долей\n",
    "    \n",
    "- **Как делать джойн**\n",
    "    \n",
    "    Для применения джойна по колонкам 2-ух датафрэймов используйте метод `merge`. Он принимает 2-ой датафрэйм. Также можно указать по какой колонке объединять и как. Например,\n",
    "    \n",
    "    ```sql\n",
    "    df.merge(other_df, on='same_column', how='inner')\n",
    "    ```\n",
    "    \n",
    "    Где\n",
    "    \n",
    "    `other_df` - другой датафрэйм\n",
    "    \n",
    "    `on` - параметр, принимающий название общей колонки в 2-ух дф, по которой нужно объединять\n",
    "    \n",
    "    `how` - параметр, принимающий тип джойна\n",
    "    \n",
    "    То есть тут мы объединили `df` с `other_df` по колонке `same_column` иннер джойном\n",
    "    \n",
    "- **У меня не принимается ответ!**\n",
    "    \n",
    "    Обратите внимание на следующий факт: в данных есть такой браузер, в который ходят **только боты**. Проверьте, что вы его не потеряли 🙂\n"
   ]
  },
  {
   "cell_type": "code",
   "execution_count": 95,
   "metadata": {},
   "outputs": [],
   "source": [
    "data_3 = pd.read_csv('https://stepik.org/media/attachments/lesson/361618/step_3_lesson_7.csv')"
   ]
  },
  {
   "cell_type": "code",
   "execution_count": 96,
   "metadata": {},
   "outputs": [
    {
     "data": {
      "text/html": [
       "<div>\n",
       "<style scoped>\n",
       "    .dataframe tbody tr th:only-of-type {\n",
       "        vertical-align: middle;\n",
       "    }\n",
       "\n",
       "    .dataframe tbody tr th {\n",
       "        vertical-align: top;\n",
       "    }\n",
       "\n",
       "    .dataframe thead th {\n",
       "        text-align: right;\n",
       "    }\n",
       "</style>\n",
       "<table border=\"1\" class=\"dataframe\">\n",
       "  <thead>\n",
       "    <tr style=\"text-align: right;\">\n",
       "      <th></th>\n",
       "      <th>date</th>\n",
       "      <th>browser</th>\n",
       "      <th>user_type</th>\n",
       "      <th>visits</th>\n",
       "    </tr>\n",
       "  </thead>\n",
       "  <tbody>\n",
       "    <tr>\n",
       "      <th>0</th>\n",
       "      <td>2020-06-15</td>\n",
       "      <td>Google Chrome</td>\n",
       "      <td>People</td>\n",
       "      <td>250.0</td>\n",
       "    </tr>\n",
       "    <tr>\n",
       "      <th>1</th>\n",
       "      <td>2020-06-15</td>\n",
       "      <td>Google Chrome</td>\n",
       "      <td>Robots</td>\n",
       "      <td>104.0</td>\n",
       "    </tr>\n",
       "    <tr>\n",
       "      <th>2</th>\n",
       "      <td>2020-06-15</td>\n",
       "      <td>Yandex Browser</td>\n",
       "      <td>People</td>\n",
       "      <td>47.0</td>\n",
       "    </tr>\n",
       "    <tr>\n",
       "      <th>3</th>\n",
       "      <td>2020-06-15</td>\n",
       "      <td>Firefox</td>\n",
       "      <td>Robots</td>\n",
       "      <td>31.0</td>\n",
       "    </tr>\n",
       "    <tr>\n",
       "      <th>4</th>\n",
       "      <td>2020-06-15</td>\n",
       "      <td>Chrome Mobile</td>\n",
       "      <td>People</td>\n",
       "      <td>31.0</td>\n",
       "    </tr>\n",
       "  </tbody>\n",
       "</table>\n",
       "</div>"
      ],
      "text/plain": [
       "         date         browser user_type  visits\n",
       "0  2020-06-15   Google Chrome    People   250.0\n",
       "1  2020-06-15   Google Chrome    Robots   104.0\n",
       "2  2020-06-15  Yandex Browser    People    47.0\n",
       "3  2020-06-15         Firefox    Robots    31.0\n",
       "4  2020-06-15   Chrome Mobile    People    31.0"
      ]
     },
     "execution_count": 96,
     "metadata": {},
     "output_type": "execute_result"
    }
   ],
   "source": [
    "data_3.head(5)"
   ]
  },
  {
   "cell_type": "code",
   "execution_count": 97,
   "metadata": {},
   "outputs": [
    {
     "data": {
      "text/plain": [
       "date          1\n",
       "browser      15\n",
       "user_type     2\n",
       "visits       14\n",
       "dtype: int64"
      ]
     },
     "execution_count": 97,
     "metadata": {},
     "output_type": "execute_result"
    }
   ],
   "source": [
    "data_3.nunique()"
   ]
  },
  {
   "cell_type": "code",
   "execution_count": 98,
   "metadata": {},
   "outputs": [],
   "source": [
    "vizits_a = data_3.groupby(['browser', 'user_type']).visits.sum()"
   ]
  },
  {
   "cell_type": "code",
   "execution_count": 99,
   "metadata": {},
   "outputs": [
    {
     "data": {
      "text/plain": [
       "browser          user_type\n",
       "Android Browser  People        1.0\n",
       "Chrome Mobile    People       31.0\n",
       "Chromium         People        1.0\n",
       "                 Robots        1.0\n",
       "CocCoc           People        1.0\n",
       "Name: visits, dtype: float64"
      ]
     },
     "execution_count": 99,
     "metadata": {},
     "output_type": "execute_result"
    }
   ],
   "source": [
    "vizits_a.head()"
   ]
  },
  {
   "cell_type": "code",
   "execution_count": 100,
   "metadata": {},
   "outputs": [],
   "source": [
    "vizits_b = data_3.groupby(['browser']).visits.sum()"
   ]
  },
  {
   "cell_type": "code",
   "execution_count": 101,
   "metadata": {},
   "outputs": [
    {
     "data": {
      "text/plain": [
       "browser\n",
       "Android Browser     1.0\n",
       "Chrome Mobile      31.0\n",
       "Chromium            2.0\n",
       "CocCoc              1.0\n",
       "Edge                5.0\n",
       "Name: visits, dtype: float64"
      ]
     },
     "execution_count": 101,
     "metadata": {},
     "output_type": "execute_result"
    }
   ],
   "source": [
    "vizits_b.head(5)"
   ]
  },
  {
   "cell_type": "code",
   "execution_count": 102,
   "metadata": {},
   "outputs": [],
   "source": [
    "seires = vizits_a / vizits_b"
   ]
  },
  {
   "cell_type": "code",
   "execution_count": 103,
   "metadata": {},
   "outputs": [
    {
     "data": {
      "text/plain": [
       "browser             user_type\n",
       "Android Browser     People       1.000000\n",
       "Chrome Mobile       People       1.000000\n",
       "Chromium            People       0.500000\n",
       "                    Robots       0.500000\n",
       "CocCoc              People       1.000000\n",
       "Edge                People       0.800000\n",
       "                    Robots       0.200000\n",
       "Firefox             People       0.465517\n",
       "                    Robots       0.534483\n",
       "Google Chrome       People       0.706215\n",
       "                    Robots       0.293785\n",
       "Mobile Safari       People       0.937500\n",
       "                    Robots       0.062500\n",
       "Opera               People       0.687500\n",
       "                    Robots       0.312500\n",
       "Safari              People       0.463415\n",
       "                    Robots       0.536585\n",
       "Samsung Internet    People       0.888889\n",
       "                    Robots       0.111111\n",
       "UCWEB               Robots       1.000000\n",
       "Vivaldi             People       1.000000\n",
       "Yandex Browser      People       0.870370\n",
       "                    Robots       0.129630\n",
       "Yandex: mobile app  People       1.000000\n",
       "Name: visits, dtype: float64"
      ]
     },
     "execution_count": 103,
     "metadata": {},
     "output_type": "execute_result"
    }
   ],
   "source": [
    "seires"
   ]
  },
  {
   "cell_type": "code",
   "execution_count": 134,
   "metadata": {},
   "outputs": [
    {
     "data": {
      "text/plain": [
       "browser\n",
       "UCWEB               1.000000\n",
       "Safari              0.536585\n",
       "Firefox             0.534483\n",
       "Chromium            0.500000\n",
       "Opera               0.312500\n",
       "Google Chrome       0.293785\n",
       "Edge                0.200000\n",
       "Yandex Browser      0.129630\n",
       "Samsung Internet    0.111111\n",
       "Mobile Safari       0.062500\n",
       "Name: visits, dtype: float64"
      ]
     },
     "execution_count": 134,
     "metadata": {},
     "output_type": "execute_result"
    }
   ],
   "source": [
    "seires.loc[:, 'Robots'].sort_values(ascending = False)"
   ]
  },
  {
   "cell_type": "markdown",
   "metadata": {},
   "source": [
    "Выгрузите данные, содержащие информацию о дне, типе пользователя, браузере. Создайте колонку с метрикой доли заходов на сайт для каждого из этих разрезов.\n",
    "\n",
    "В ответе укажите процент открытий сайта настоящими пользователями Safari (не ботами) с точностью до 1 знака после точки.\n",
    "\n",
    "Hint: обратите внимание, здесь вам нужно найти долю заходов конкретных типов пользователей с конкретного браузера от вообще всех-всех заходов на сайт за этот день.\n",
    "- **Как решать это задание?**\n",
    "    \n",
    "    Посчитайте процент пользователей в каждой из групп (комбинация браузера и типа пользователей), округлите до 1 знака и укажите процент пользователей-людей с браузером Safari\n",
    "    \n",
    "- **Как посчитать процент?**\n",
    "    \n",
    "    Разделите колонку на сумму по этой же колонке, а затем умножьте на 100\n",
    "    \n",
    "- **У меня не принимается ответ!**\n",
    "    \n",
    "    Первая часть этого задания с добычей данных из метрики не проверяется - примените свой код к данным, доступным из задания по ссылке"
   ]
  },
  {
   "cell_type": "code",
   "execution_count": 138,
   "metadata": {},
   "outputs": [],
   "source": [
    "df_4 = pd.read_csv('https://stepik.org/media/attachments/lesson/361618/step_4_lesson_7.csv')"
   ]
  },
  {
   "cell_type": "code",
   "execution_count": 139,
   "metadata": {},
   "outputs": [
    {
     "data": {
      "text/html": [
       "<div>\n",
       "<style scoped>\n",
       "    .dataframe tbody tr th:only-of-type {\n",
       "        vertical-align: middle;\n",
       "    }\n",
       "\n",
       "    .dataframe tbody tr th {\n",
       "        vertical-align: top;\n",
       "    }\n",
       "\n",
       "    .dataframe thead th {\n",
       "        text-align: right;\n",
       "    }\n",
       "</style>\n",
       "<table border=\"1\" class=\"dataframe\">\n",
       "  <thead>\n",
       "    <tr style=\"text-align: right;\">\n",
       "      <th></th>\n",
       "      <th>date</th>\n",
       "      <th>browser</th>\n",
       "      <th>user_type</th>\n",
       "      <th>visits</th>\n",
       "    </tr>\n",
       "  </thead>\n",
       "  <tbody>\n",
       "    <tr>\n",
       "      <th>0</th>\n",
       "      <td>2020-06-15</td>\n",
       "      <td>Google Chrome</td>\n",
       "      <td>People</td>\n",
       "      <td>250.0</td>\n",
       "    </tr>\n",
       "    <tr>\n",
       "      <th>1</th>\n",
       "      <td>2020-06-15</td>\n",
       "      <td>Google Chrome</td>\n",
       "      <td>Robots</td>\n",
       "      <td>104.0</td>\n",
       "    </tr>\n",
       "    <tr>\n",
       "      <th>2</th>\n",
       "      <td>2020-06-15</td>\n",
       "      <td>Yandex Browser</td>\n",
       "      <td>People</td>\n",
       "      <td>47.0</td>\n",
       "    </tr>\n",
       "    <tr>\n",
       "      <th>3</th>\n",
       "      <td>2020-06-15</td>\n",
       "      <td>Firefox</td>\n",
       "      <td>Robots</td>\n",
       "      <td>31.0</td>\n",
       "    </tr>\n",
       "    <tr>\n",
       "      <th>4</th>\n",
       "      <td>2020-06-15</td>\n",
       "      <td>Chrome Mobile</td>\n",
       "      <td>People</td>\n",
       "      <td>31.0</td>\n",
       "    </tr>\n",
       "    <tr>\n",
       "      <th>5</th>\n",
       "      <td>2020-06-15</td>\n",
       "      <td>Firefox</td>\n",
       "      <td>People</td>\n",
       "      <td>27.0</td>\n",
       "    </tr>\n",
       "    <tr>\n",
       "      <th>6</th>\n",
       "      <td>2020-06-15</td>\n",
       "      <td>Safari</td>\n",
       "      <td>Robots</td>\n",
       "      <td>22.0</td>\n",
       "    </tr>\n",
       "    <tr>\n",
       "      <th>7</th>\n",
       "      <td>2020-06-15</td>\n",
       "      <td>Safari</td>\n",
       "      <td>People</td>\n",
       "      <td>19.0</td>\n",
       "    </tr>\n",
       "    <tr>\n",
       "      <th>8</th>\n",
       "      <td>2020-06-15</td>\n",
       "      <td>Mobile Safari</td>\n",
       "      <td>People</td>\n",
       "      <td>15.0</td>\n",
       "    </tr>\n",
       "    <tr>\n",
       "      <th>9</th>\n",
       "      <td>2020-06-15</td>\n",
       "      <td>Opera</td>\n",
       "      <td>People</td>\n",
       "      <td>11.0</td>\n",
       "    </tr>\n",
       "    <tr>\n",
       "      <th>10</th>\n",
       "      <td>2020-06-15</td>\n",
       "      <td>Samsung Internet</td>\n",
       "      <td>People</td>\n",
       "      <td>8.0</td>\n",
       "    </tr>\n",
       "    <tr>\n",
       "      <th>11</th>\n",
       "      <td>2020-06-15</td>\n",
       "      <td>Yandex Browser</td>\n",
       "      <td>Robots</td>\n",
       "      <td>7.0</td>\n",
       "    </tr>\n",
       "    <tr>\n",
       "      <th>12</th>\n",
       "      <td>2020-06-15</td>\n",
       "      <td>Opera</td>\n",
       "      <td>Robots</td>\n",
       "      <td>5.0</td>\n",
       "    </tr>\n",
       "    <tr>\n",
       "      <th>13</th>\n",
       "      <td>2020-06-15</td>\n",
       "      <td>UCWEB</td>\n",
       "      <td>Robots</td>\n",
       "      <td>4.0</td>\n",
       "    </tr>\n",
       "    <tr>\n",
       "      <th>14</th>\n",
       "      <td>2020-06-15</td>\n",
       "      <td>Edge</td>\n",
       "      <td>People</td>\n",
       "      <td>4.0</td>\n",
       "    </tr>\n",
       "    <tr>\n",
       "      <th>15</th>\n",
       "      <td>2020-06-15</td>\n",
       "      <td>Mobile Safari</td>\n",
       "      <td>Robots</td>\n",
       "      <td>1.0</td>\n",
       "    </tr>\n",
       "    <tr>\n",
       "      <th>16</th>\n",
       "      <td>2020-06-15</td>\n",
       "      <td>Android Browser</td>\n",
       "      <td>People</td>\n",
       "      <td>1.0</td>\n",
       "    </tr>\n",
       "    <tr>\n",
       "      <th>17</th>\n",
       "      <td>2020-06-15</td>\n",
       "      <td>Chromium</td>\n",
       "      <td>People</td>\n",
       "      <td>1.0</td>\n",
       "    </tr>\n",
       "    <tr>\n",
       "      <th>18</th>\n",
       "      <td>2020-06-15</td>\n",
       "      <td>Chromium</td>\n",
       "      <td>Robots</td>\n",
       "      <td>1.0</td>\n",
       "    </tr>\n",
       "    <tr>\n",
       "      <th>19</th>\n",
       "      <td>2020-06-15</td>\n",
       "      <td>Yandex: mobile app</td>\n",
       "      <td>People</td>\n",
       "      <td>1.0</td>\n",
       "    </tr>\n",
       "    <tr>\n",
       "      <th>20</th>\n",
       "      <td>2020-06-15</td>\n",
       "      <td>Vivaldi</td>\n",
       "      <td>People</td>\n",
       "      <td>1.0</td>\n",
       "    </tr>\n",
       "    <tr>\n",
       "      <th>21</th>\n",
       "      <td>2020-06-15</td>\n",
       "      <td>Edge</td>\n",
       "      <td>Robots</td>\n",
       "      <td>1.0</td>\n",
       "    </tr>\n",
       "    <tr>\n",
       "      <th>22</th>\n",
       "      <td>2020-06-15</td>\n",
       "      <td>CocCoc</td>\n",
       "      <td>People</td>\n",
       "      <td>1.0</td>\n",
       "    </tr>\n",
       "    <tr>\n",
       "      <th>23</th>\n",
       "      <td>2020-06-15</td>\n",
       "      <td>Samsung Internet</td>\n",
       "      <td>Robots</td>\n",
       "      <td>1.0</td>\n",
       "    </tr>\n",
       "  </tbody>\n",
       "</table>\n",
       "</div>"
      ],
      "text/plain": [
       "          date             browser user_type  visits\n",
       "0   2020-06-15       Google Chrome    People   250.0\n",
       "1   2020-06-15       Google Chrome    Robots   104.0\n",
       "2   2020-06-15      Yandex Browser    People    47.0\n",
       "3   2020-06-15             Firefox    Robots    31.0\n",
       "4   2020-06-15       Chrome Mobile    People    31.0\n",
       "5   2020-06-15             Firefox    People    27.0\n",
       "6   2020-06-15              Safari    Robots    22.0\n",
       "7   2020-06-15              Safari    People    19.0\n",
       "8   2020-06-15       Mobile Safari    People    15.0\n",
       "9   2020-06-15               Opera    People    11.0\n",
       "10  2020-06-15    Samsung Internet    People     8.0\n",
       "11  2020-06-15      Yandex Browser    Robots     7.0\n",
       "12  2020-06-15               Opera    Robots     5.0\n",
       "13  2020-06-15               UCWEB    Robots     4.0\n",
       "14  2020-06-15                Edge    People     4.0\n",
       "15  2020-06-15       Mobile Safari    Robots     1.0\n",
       "16  2020-06-15     Android Browser    People     1.0\n",
       "17  2020-06-15            Chromium    People     1.0\n",
       "18  2020-06-15            Chromium    Robots     1.0\n",
       "19  2020-06-15  Yandex: mobile app    People     1.0\n",
       "20  2020-06-15             Vivaldi    People     1.0\n",
       "21  2020-06-15                Edge    Robots     1.0\n",
       "22  2020-06-15              CocCoc    People     1.0\n",
       "23  2020-06-15    Samsung Internet    Robots     1.0"
      ]
     },
     "execution_count": 139,
     "metadata": {},
     "output_type": "execute_result"
    }
   ],
   "source": [
    "df_4"
   ]
  },
  {
   "cell_type": "code",
   "execution_count": 141,
   "metadata": {},
   "outputs": [],
   "source": [
    "df_4['all_vizit'] = df_4.visits.sum()"
   ]
  },
  {
   "cell_type": "code",
   "execution_count": 142,
   "metadata": {},
   "outputs": [],
   "source": [
    "df_4['perc'] = df_4['visits'] / df_4['all_vizit'] * 100"
   ]
  },
  {
   "cell_type": "code",
   "execution_count": 143,
   "metadata": {},
   "outputs": [
    {
     "data": {
      "text/html": [
       "<div>\n",
       "<style scoped>\n",
       "    .dataframe tbody tr th:only-of-type {\n",
       "        vertical-align: middle;\n",
       "    }\n",
       "\n",
       "    .dataframe tbody tr th {\n",
       "        vertical-align: top;\n",
       "    }\n",
       "\n",
       "    .dataframe thead th {\n",
       "        text-align: right;\n",
       "    }\n",
       "</style>\n",
       "<table border=\"1\" class=\"dataframe\">\n",
       "  <thead>\n",
       "    <tr style=\"text-align: right;\">\n",
       "      <th></th>\n",
       "      <th>date</th>\n",
       "      <th>browser</th>\n",
       "      <th>user_type</th>\n",
       "      <th>visits</th>\n",
       "      <th>all_vizit</th>\n",
       "      <th>perc</th>\n",
       "    </tr>\n",
       "  </thead>\n",
       "  <tbody>\n",
       "    <tr>\n",
       "      <th>0</th>\n",
       "      <td>2020-06-15</td>\n",
       "      <td>Google Chrome</td>\n",
       "      <td>People</td>\n",
       "      <td>250.0</td>\n",
       "      <td>594.0</td>\n",
       "      <td>42.087542</td>\n",
       "    </tr>\n",
       "    <tr>\n",
       "      <th>1</th>\n",
       "      <td>2020-06-15</td>\n",
       "      <td>Google Chrome</td>\n",
       "      <td>Robots</td>\n",
       "      <td>104.0</td>\n",
       "      <td>594.0</td>\n",
       "      <td>17.508418</td>\n",
       "    </tr>\n",
       "    <tr>\n",
       "      <th>2</th>\n",
       "      <td>2020-06-15</td>\n",
       "      <td>Yandex Browser</td>\n",
       "      <td>People</td>\n",
       "      <td>47.0</td>\n",
       "      <td>594.0</td>\n",
       "      <td>7.912458</td>\n",
       "    </tr>\n",
       "    <tr>\n",
       "      <th>3</th>\n",
       "      <td>2020-06-15</td>\n",
       "      <td>Firefox</td>\n",
       "      <td>Robots</td>\n",
       "      <td>31.0</td>\n",
       "      <td>594.0</td>\n",
       "      <td>5.218855</td>\n",
       "    </tr>\n",
       "    <tr>\n",
       "      <th>4</th>\n",
       "      <td>2020-06-15</td>\n",
       "      <td>Chrome Mobile</td>\n",
       "      <td>People</td>\n",
       "      <td>31.0</td>\n",
       "      <td>594.0</td>\n",
       "      <td>5.218855</td>\n",
       "    </tr>\n",
       "    <tr>\n",
       "      <th>5</th>\n",
       "      <td>2020-06-15</td>\n",
       "      <td>Firefox</td>\n",
       "      <td>People</td>\n",
       "      <td>27.0</td>\n",
       "      <td>594.0</td>\n",
       "      <td>4.545455</td>\n",
       "    </tr>\n",
       "    <tr>\n",
       "      <th>6</th>\n",
       "      <td>2020-06-15</td>\n",
       "      <td>Safari</td>\n",
       "      <td>Robots</td>\n",
       "      <td>22.0</td>\n",
       "      <td>594.0</td>\n",
       "      <td>3.703704</td>\n",
       "    </tr>\n",
       "    <tr>\n",
       "      <th>7</th>\n",
       "      <td>2020-06-15</td>\n",
       "      <td>Safari</td>\n",
       "      <td>People</td>\n",
       "      <td>19.0</td>\n",
       "      <td>594.0</td>\n",
       "      <td>3.198653</td>\n",
       "    </tr>\n",
       "    <tr>\n",
       "      <th>8</th>\n",
       "      <td>2020-06-15</td>\n",
       "      <td>Mobile Safari</td>\n",
       "      <td>People</td>\n",
       "      <td>15.0</td>\n",
       "      <td>594.0</td>\n",
       "      <td>2.525253</td>\n",
       "    </tr>\n",
       "    <tr>\n",
       "      <th>9</th>\n",
       "      <td>2020-06-15</td>\n",
       "      <td>Opera</td>\n",
       "      <td>People</td>\n",
       "      <td>11.0</td>\n",
       "      <td>594.0</td>\n",
       "      <td>1.851852</td>\n",
       "    </tr>\n",
       "    <tr>\n",
       "      <th>10</th>\n",
       "      <td>2020-06-15</td>\n",
       "      <td>Samsung Internet</td>\n",
       "      <td>People</td>\n",
       "      <td>8.0</td>\n",
       "      <td>594.0</td>\n",
       "      <td>1.346801</td>\n",
       "    </tr>\n",
       "    <tr>\n",
       "      <th>11</th>\n",
       "      <td>2020-06-15</td>\n",
       "      <td>Yandex Browser</td>\n",
       "      <td>Robots</td>\n",
       "      <td>7.0</td>\n",
       "      <td>594.0</td>\n",
       "      <td>1.178451</td>\n",
       "    </tr>\n",
       "    <tr>\n",
       "      <th>12</th>\n",
       "      <td>2020-06-15</td>\n",
       "      <td>Opera</td>\n",
       "      <td>Robots</td>\n",
       "      <td>5.0</td>\n",
       "      <td>594.0</td>\n",
       "      <td>0.841751</td>\n",
       "    </tr>\n",
       "    <tr>\n",
       "      <th>13</th>\n",
       "      <td>2020-06-15</td>\n",
       "      <td>UCWEB</td>\n",
       "      <td>Robots</td>\n",
       "      <td>4.0</td>\n",
       "      <td>594.0</td>\n",
       "      <td>0.673401</td>\n",
       "    </tr>\n",
       "    <tr>\n",
       "      <th>14</th>\n",
       "      <td>2020-06-15</td>\n",
       "      <td>Edge</td>\n",
       "      <td>People</td>\n",
       "      <td>4.0</td>\n",
       "      <td>594.0</td>\n",
       "      <td>0.673401</td>\n",
       "    </tr>\n",
       "    <tr>\n",
       "      <th>15</th>\n",
       "      <td>2020-06-15</td>\n",
       "      <td>Mobile Safari</td>\n",
       "      <td>Robots</td>\n",
       "      <td>1.0</td>\n",
       "      <td>594.0</td>\n",
       "      <td>0.168350</td>\n",
       "    </tr>\n",
       "    <tr>\n",
       "      <th>16</th>\n",
       "      <td>2020-06-15</td>\n",
       "      <td>Android Browser</td>\n",
       "      <td>People</td>\n",
       "      <td>1.0</td>\n",
       "      <td>594.0</td>\n",
       "      <td>0.168350</td>\n",
       "    </tr>\n",
       "    <tr>\n",
       "      <th>17</th>\n",
       "      <td>2020-06-15</td>\n",
       "      <td>Chromium</td>\n",
       "      <td>People</td>\n",
       "      <td>1.0</td>\n",
       "      <td>594.0</td>\n",
       "      <td>0.168350</td>\n",
       "    </tr>\n",
       "    <tr>\n",
       "      <th>18</th>\n",
       "      <td>2020-06-15</td>\n",
       "      <td>Chromium</td>\n",
       "      <td>Robots</td>\n",
       "      <td>1.0</td>\n",
       "      <td>594.0</td>\n",
       "      <td>0.168350</td>\n",
       "    </tr>\n",
       "    <tr>\n",
       "      <th>19</th>\n",
       "      <td>2020-06-15</td>\n",
       "      <td>Yandex: mobile app</td>\n",
       "      <td>People</td>\n",
       "      <td>1.0</td>\n",
       "      <td>594.0</td>\n",
       "      <td>0.168350</td>\n",
       "    </tr>\n",
       "    <tr>\n",
       "      <th>20</th>\n",
       "      <td>2020-06-15</td>\n",
       "      <td>Vivaldi</td>\n",
       "      <td>People</td>\n",
       "      <td>1.0</td>\n",
       "      <td>594.0</td>\n",
       "      <td>0.168350</td>\n",
       "    </tr>\n",
       "    <tr>\n",
       "      <th>21</th>\n",
       "      <td>2020-06-15</td>\n",
       "      <td>Edge</td>\n",
       "      <td>Robots</td>\n",
       "      <td>1.0</td>\n",
       "      <td>594.0</td>\n",
       "      <td>0.168350</td>\n",
       "    </tr>\n",
       "    <tr>\n",
       "      <th>22</th>\n",
       "      <td>2020-06-15</td>\n",
       "      <td>CocCoc</td>\n",
       "      <td>People</td>\n",
       "      <td>1.0</td>\n",
       "      <td>594.0</td>\n",
       "      <td>0.168350</td>\n",
       "    </tr>\n",
       "    <tr>\n",
       "      <th>23</th>\n",
       "      <td>2020-06-15</td>\n",
       "      <td>Samsung Internet</td>\n",
       "      <td>Robots</td>\n",
       "      <td>1.0</td>\n",
       "      <td>594.0</td>\n",
       "      <td>0.168350</td>\n",
       "    </tr>\n",
       "  </tbody>\n",
       "</table>\n",
       "</div>"
      ],
      "text/plain": [
       "          date             browser user_type  visits  all_vizit       perc\n",
       "0   2020-06-15       Google Chrome    People   250.0      594.0  42.087542\n",
       "1   2020-06-15       Google Chrome    Robots   104.0      594.0  17.508418\n",
       "2   2020-06-15      Yandex Browser    People    47.0      594.0   7.912458\n",
       "3   2020-06-15             Firefox    Robots    31.0      594.0   5.218855\n",
       "4   2020-06-15       Chrome Mobile    People    31.0      594.0   5.218855\n",
       "5   2020-06-15             Firefox    People    27.0      594.0   4.545455\n",
       "6   2020-06-15              Safari    Robots    22.0      594.0   3.703704\n",
       "7   2020-06-15              Safari    People    19.0      594.0   3.198653\n",
       "8   2020-06-15       Mobile Safari    People    15.0      594.0   2.525253\n",
       "9   2020-06-15               Opera    People    11.0      594.0   1.851852\n",
       "10  2020-06-15    Samsung Internet    People     8.0      594.0   1.346801\n",
       "11  2020-06-15      Yandex Browser    Robots     7.0      594.0   1.178451\n",
       "12  2020-06-15               Opera    Robots     5.0      594.0   0.841751\n",
       "13  2020-06-15               UCWEB    Robots     4.0      594.0   0.673401\n",
       "14  2020-06-15                Edge    People     4.0      594.0   0.673401\n",
       "15  2020-06-15       Mobile Safari    Robots     1.0      594.0   0.168350\n",
       "16  2020-06-15     Android Browser    People     1.0      594.0   0.168350\n",
       "17  2020-06-15            Chromium    People     1.0      594.0   0.168350\n",
       "18  2020-06-15            Chromium    Robots     1.0      594.0   0.168350\n",
       "19  2020-06-15  Yandex: mobile app    People     1.0      594.0   0.168350\n",
       "20  2020-06-15             Vivaldi    People     1.0      594.0   0.168350\n",
       "21  2020-06-15                Edge    Robots     1.0      594.0   0.168350\n",
       "22  2020-06-15              CocCoc    People     1.0      594.0   0.168350\n",
       "23  2020-06-15    Samsung Internet    Robots     1.0      594.0   0.168350"
      ]
     },
     "execution_count": 143,
     "metadata": {},
     "output_type": "execute_result"
    }
   ],
   "source": [
    "df_4"
   ]
  },
  {
   "cell_type": "code",
   "execution_count": 147,
   "metadata": {},
   "outputs": [],
   "source": [
    "bs = df_4.query(\"user_type == 'People' & browser == 'Safari'\")"
   ]
  },
  {
   "cell_type": "code",
   "execution_count": 148,
   "metadata": {},
   "outputs": [
    {
     "data": {
      "text/html": [
       "<div>\n",
       "<style scoped>\n",
       "    .dataframe tbody tr th:only-of-type {\n",
       "        vertical-align: middle;\n",
       "    }\n",
       "\n",
       "    .dataframe tbody tr th {\n",
       "        vertical-align: top;\n",
       "    }\n",
       "\n",
       "    .dataframe thead th {\n",
       "        text-align: right;\n",
       "    }\n",
       "</style>\n",
       "<table border=\"1\" class=\"dataframe\">\n",
       "  <thead>\n",
       "    <tr style=\"text-align: right;\">\n",
       "      <th></th>\n",
       "      <th>date</th>\n",
       "      <th>browser</th>\n",
       "      <th>user_type</th>\n",
       "      <th>visits</th>\n",
       "      <th>all_vizit</th>\n",
       "      <th>perc</th>\n",
       "    </tr>\n",
       "  </thead>\n",
       "  <tbody>\n",
       "    <tr>\n",
       "      <th>7</th>\n",
       "      <td>2020-06-15</td>\n",
       "      <td>Safari</td>\n",
       "      <td>People</td>\n",
       "      <td>19.0</td>\n",
       "      <td>594.0</td>\n",
       "      <td>3.198653</td>\n",
       "    </tr>\n",
       "  </tbody>\n",
       "</table>\n",
       "</div>"
      ],
      "text/plain": [
       "         date browser user_type  visits  all_vizit      perc\n",
       "7  2020-06-15  Safari    People    19.0      594.0  3.198653"
      ]
     },
     "execution_count": 148,
     "metadata": {},
     "output_type": "execute_result"
    }
   ],
   "source": [
    "bs"
   ]
  },
  {
   "cell_type": "code",
   "execution_count": 149,
   "metadata": {},
   "outputs": [
    {
     "data": {
      "text/html": [
       "<div>\n",
       "<style scoped>\n",
       "    .dataframe tbody tr th:only-of-type {\n",
       "        vertical-align: middle;\n",
       "    }\n",
       "\n",
       "    .dataframe tbody tr th {\n",
       "        vertical-align: top;\n",
       "    }\n",
       "\n",
       "    .dataframe thead th {\n",
       "        text-align: right;\n",
       "    }\n",
       "</style>\n",
       "<table border=\"1\" class=\"dataframe\">\n",
       "  <thead>\n",
       "    <tr style=\"text-align: right;\">\n",
       "      <th></th>\n",
       "      <th>date</th>\n",
       "      <th>browser</th>\n",
       "      <th>user_type</th>\n",
       "      <th>visits</th>\n",
       "      <th>all_vizit</th>\n",
       "      <th>perc</th>\n",
       "    </tr>\n",
       "  </thead>\n",
       "  <tbody>\n",
       "    <tr>\n",
       "      <th>7</th>\n",
       "      <td>2020-06-15</td>\n",
       "      <td>Safari</td>\n",
       "      <td>People</td>\n",
       "      <td>19.0</td>\n",
       "      <td>594.0</td>\n",
       "      <td>3.2</td>\n",
       "    </tr>\n",
       "  </tbody>\n",
       "</table>\n",
       "</div>"
      ],
      "text/plain": [
       "         date browser user_type  visits  all_vizit  perc\n",
       "7  2020-06-15  Safari    People    19.0      594.0   3.2"
      ]
     },
     "execution_count": 149,
     "metadata": {},
     "output_type": "execute_result"
    }
   ],
   "source": [
    "bs.round(1)"
   ]
  },
  {
   "cell_type": "code",
   "execution_count": 151,
   "metadata": {},
   "outputs": [],
   "source": [
    "scope = ['https://***',\n",
    "         'https://***']\n",
    "my_mail = '***'\n",
    "\n",
    "credentials = ServiceAccountCredentials.from_json_keyfile_name('/mnt/***/home-jupyter/jupyter-i-karamnov-39/xrustproject-277863c5a5e8.json', scope)\n",
    "gs = gspread.authorize(credentials)"
   ]
  },
  {
   "cell_type": "code",
   "execution_count": 152,
   "metadata": {},
   "outputs": [],
   "source": [
    "SERVISE_ACCOUNT_FILE = '/mnt/***/home-jupyter/jupyter-i-karamnov-39/xrustproject-277863c5a5e8.json'"
   ]
  },
  {
   "cell_type": "code",
   "execution_count": 153,
   "metadata": {},
   "outputs": [],
   "source": [
    "gc = gspread.service_account(filename=SERVISE_ACCOUNT_FILE)"
   ]
  },
  {
   "cell_type": "code",
   "execution_count": 154,
   "metadata": {},
   "outputs": [],
   "source": [
    "sh = gc.create('project_7_4')"
   ]
  },
  {
   "cell_type": "code",
   "execution_count": 155,
   "metadata": {},
   "outputs": [],
   "source": [
    "sh.share('***', perm_type='user', role='writer')"
   ]
  },
  {
   "cell_type": "code",
   "execution_count": 156,
   "metadata": {},
   "outputs": [],
   "source": [
    "worksheet = sh.get_worksheet(0)"
   ]
  },
  {
   "cell_type": "code",
   "execution_count": 157,
   "metadata": {},
   "outputs": [
    {
     "data": {
      "text/plain": [
       "{'spreadsheetId': '1DS3BfP4BNfx31wmQ4MSepyqL0wQ536lpnuDPZv7l9NU',\n",
       " 'updatedRange': 'Sheet1!A1:C7',\n",
       " 'updatedRows': 7,\n",
       " 'updatedColumns': 3,\n",
       " 'updatedCells': 21}"
      ]
     },
     "execution_count": 157,
     "metadata": {},
     "output_type": "execute_result"
    }
   ],
   "source": [
    "worksheet.update([data.columns.values.tolist()] + data.values.tolist())"
   ]
  },
  {
   "cell_type": "code",
   "execution_count": 158,
   "metadata": {},
   "outputs": [],
   "source": [
    "link = sh.url"
   ]
  },
  {
   "cell_type": "code",
   "execution_count": 159,
   "metadata": {},
   "outputs": [
    {
     "data": {
      "text/plain": [
       "'https://docs.google.com/spreadsheets/d/1DS3BfP4BNfx31wmQ4MSepyqL0wQ536lpnuDPZv7l9NU'"
      ]
     },
     "execution_count": 159,
     "metadata": {},
     "output_type": "execute_result"
    }
   ],
   "source": [
    "link"
   ]
  },
  {
   "cell_type": "code",
   "execution_count": null,
   "metadata": {},
   "outputs": [],
   "source": []
  },
  {
   "cell_type": "code",
   "execution_count": null,
   "metadata": {},
   "outputs": [],
   "source": []
  },
  {
   "cell_type": "code",
   "execution_count": null,
   "metadata": {},
   "outputs": [],
   "source": []
  },
  {
   "cell_type": "code",
   "execution_count": null,
   "metadata": {},
   "outputs": [],
   "source": []
  }
 ],
 "metadata": {
  "kernelspec": {
   "display_name": "Python 3",
   "language": "python",
   "name": "python3"
  },
  "language_info": {
   "codemirror_mode": {
    "name": "ipython",
    "version": 3
   },
   "file_extension": ".py",
   "mimetype": "text/x-python",
   "name": "python",
   "nbconvert_exporter": "python",
   "pygments_lexer": "ipython3",
   "version": "3.7.3"
  }
 },
 "nbformat": 4,
 "nbformat_minor": 4
}
