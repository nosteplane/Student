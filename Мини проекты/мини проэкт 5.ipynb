{
 "cells": [
  {
   "cell_type": "code",
   "execution_count": 1,
   "metadata": {},
   "outputs": [],
   "source": [
    "import pandas as pd\n",
    "import os\n",
    "import seaborn as sns\n",
    "import matplotlib.pyplot as plt\n",
    "%matplotlib inline\n",
    "import plotly.express as px\n",
    "import matplotlib.pyplot as plt\n",
    "import numpy as np\n"
   ]
  },
  {
   "cell_type": "code",
   "execution_count": 2,
   "metadata": {},
   "outputs": [],
   "source": [
    "transaction_data=pd.read_csv('/mnt/HC_Volume_18315164/home-jupyter/jupyter-i-karamnov-39/shared/homeworks/python_ds_miniprojects/5/transaction_data.csv', parse_dates=['date'])\n"
   ]
  },
  {
   "cell_type": "code",
   "execution_count": 3,
   "metadata": {},
   "outputs": [
    {
     "data": {
      "text/plain": [
       "date           datetime64[ns]\n",
       "name                   object\n",
       "transaction            object\n",
       "dtype: object"
      ]
     },
     "execution_count": 3,
     "metadata": {},
     "output_type": "execute_result"
    }
   ],
   "source": [
    "transaction_data.dtypes"
   ]
  },
  {
   "cell_type": "code",
   "execution_count": null,
   "metadata": {},
   "outputs": [],
   "source": []
  },
  {
   "cell_type": "code",
   "execution_count": 4,
   "metadata": {},
   "outputs": [
    {
     "data": {
      "text/html": [
       "<div>\n",
       "<style scoped>\n",
       "    .dataframe tbody tr th:only-of-type {\n",
       "        vertical-align: middle;\n",
       "    }\n",
       "\n",
       "    .dataframe tbody tr th {\n",
       "        vertical-align: top;\n",
       "    }\n",
       "\n",
       "    .dataframe thead th {\n",
       "        text-align: right;\n",
       "    }\n",
       "</style>\n",
       "<table border=\"1\" class=\"dataframe\">\n",
       "  <thead>\n",
       "    <tr style=\"text-align: right;\">\n",
       "      <th></th>\n",
       "      <th>date</th>\n",
       "      <th>name</th>\n",
       "      <th>transaction</th>\n",
       "    </tr>\n",
       "  </thead>\n",
       "  <tbody>\n",
       "    <tr>\n",
       "      <th>0</th>\n",
       "      <td>2020-03-02 00:37:20</td>\n",
       "      <td>Ekaterina_Petrova</td>\n",
       "      <td>cancelled</td>\n",
       "    </tr>\n",
       "    <tr>\n",
       "      <th>1</th>\n",
       "      <td>2020-03-02 00:59:09</td>\n",
       "      <td>Irina_Fedorova</td>\n",
       "      <td>successfull</td>\n",
       "    </tr>\n",
       "    <tr>\n",
       "      <th>2</th>\n",
       "      <td>2020-03-02 01:06:14</td>\n",
       "      <td>Ekaterina_Smirnova</td>\n",
       "      <td>successfull</td>\n",
       "    </tr>\n",
       "    <tr>\n",
       "      <th>3</th>\n",
       "      <td>2020-03-02 00:02:58</td>\n",
       "      <td>Lolita_Polyanova</td>\n",
       "      <td>cancelled</td>\n",
       "    </tr>\n",
       "    <tr>\n",
       "      <th>4</th>\n",
       "      <td>2020-03-02 00:17:52</td>\n",
       "      <td>Julia_Smirnova</td>\n",
       "      <td>cancelled</td>\n",
       "    </tr>\n",
       "    <tr>\n",
       "      <th>...</th>\n",
       "      <td>...</td>\n",
       "      <td>...</td>\n",
       "      <td>...</td>\n",
       "    </tr>\n",
       "    <tr>\n",
       "      <th>5310</th>\n",
       "      <td>2020-03-02 00:09:28</td>\n",
       "      <td>Vasilisa_Fedorova</td>\n",
       "      <td>successfull</td>\n",
       "    </tr>\n",
       "    <tr>\n",
       "      <th>5311</th>\n",
       "      <td>2020-03-02 00:46:31</td>\n",
       "      <td>Vasilisa_Ozerova</td>\n",
       "      <td>successfull</td>\n",
       "    </tr>\n",
       "    <tr>\n",
       "      <th>5312</th>\n",
       "      <td>2020-03-02 00:16:38</td>\n",
       "      <td>Olga_Polyanova</td>\n",
       "      <td>successfull</td>\n",
       "    </tr>\n",
       "    <tr>\n",
       "      <th>5313</th>\n",
       "      <td>2020-03-02 00:13:00</td>\n",
       "      <td>Ekaterina_Smirnova</td>\n",
       "      <td>successfull</td>\n",
       "    </tr>\n",
       "    <tr>\n",
       "      <th>5314</th>\n",
       "      <td>2020-03-02 01:15:45</td>\n",
       "      <td>Irina_Fedorova</td>\n",
       "      <td>cancelled</td>\n",
       "    </tr>\n",
       "  </tbody>\n",
       "</table>\n",
       "<p>5315 rows × 3 columns</p>\n",
       "</div>"
      ],
      "text/plain": [
       "                    date                name  transaction\n",
       "0    2020-03-02 00:37:20   Ekaterina_Petrova    cancelled\n",
       "1    2020-03-02 00:59:09      Irina_Fedorova  successfull\n",
       "2    2020-03-02 01:06:14  Ekaterina_Smirnova  successfull\n",
       "3    2020-03-02 00:02:58    Lolita_Polyanova    cancelled\n",
       "4    2020-03-02 00:17:52      Julia_Smirnova    cancelled\n",
       "...                  ...                 ...          ...\n",
       "5310 2020-03-02 00:09:28   Vasilisa_Fedorova  successfull\n",
       "5311 2020-03-02 00:46:31    Vasilisa_Ozerova  successfull\n",
       "5312 2020-03-02 00:16:38      Olga_Polyanova  successfull\n",
       "5313 2020-03-02 00:13:00  Ekaterina_Smirnova  successfull\n",
       "5314 2020-03-02 01:15:45      Irina_Fedorova    cancelled\n",
       "\n",
       "[5315 rows x 3 columns]"
      ]
     },
     "execution_count": 4,
     "metadata": {},
     "output_type": "execute_result"
    }
   ],
   "source": [
    "transaction_data"
   ]
  },
  {
   "cell_type": "markdown",
   "metadata": {},
   "source": [
    "Загрузите датасет transaction_data.csv. Проверьте размер таблицы, типы переменных, число пропущенных значений и описательную статистику.\n",
    "\n",
    "Вопрос: сколько в датасете пропущенных значений?\n",
    "- **Как делать это задание?**\n",
    "    \n",
    "    Выведите размер таблицы, типы переменных, число пропущенных значений и описательную статистику.\n",
    "    \n",
    "- **Как получить число пропущенных значений?**\n",
    "    \n",
    "    Используйте метод `isna` в связке с `sum`\n",
    "    \n",
    "- **Что делает isna?**\n",
    "    \n",
    "    Метод `isna` переводит каждое значение в `True`, если оно пропущено (NA), и в `False`, если оно не пропущено\n",
    "    \n",
    "- **Зачем складывать логические значения?**\n",
    "    \n",
    "    В питоне `True` кодируется как 1, а `False` как 0 - не стоит использовать сами логические значения в арифметике, но для анализа серий (число пропущенных значений, доля оставшихся клиентов) это удобный чит\n",
    "    \n",
    "- **Краткая сводка**\n",
    "    \n",
    "    Чтобы быстро взглянуть на информацию о распределении данных, можно использовать метод `describe`\n",
    "    \n",
    "     Например,\n",
    "    \n",
    "    ```python\n",
    "    df.describe()\n",
    "    ```\n",
    "    \n",
    "    Выведет эту информацию для колонок `df`    "
   ]
  },
  {
   "cell_type": "code",
   "execution_count": 5,
   "metadata": {},
   "outputs": [
    {
     "name": "stderr",
     "output_type": "stream",
     "text": [
      "/opt/tljh/user/lib/python3.7/site-packages/ipykernel_launcher.py:1: FutureWarning: Treating datetime data as categorical rather than numeric in `.describe` is deprecated and will be removed in a future version of pandas. Specify `datetime_is_numeric=True` to silence this warning and adopt the future behavior now.\n",
      "  \"\"\"Entry point for launching an IPython kernel.\n"
     ]
    },
    {
     "data": {
      "text/html": [
       "<div>\n",
       "<style scoped>\n",
       "    .dataframe tbody tr th:only-of-type {\n",
       "        vertical-align: middle;\n",
       "    }\n",
       "\n",
       "    .dataframe tbody tr th {\n",
       "        vertical-align: top;\n",
       "    }\n",
       "\n",
       "    .dataframe thead th {\n",
       "        text-align: right;\n",
       "    }\n",
       "</style>\n",
       "<table border=\"1\" class=\"dataframe\">\n",
       "  <thead>\n",
       "    <tr style=\"text-align: right;\">\n",
       "      <th></th>\n",
       "      <th>date</th>\n",
       "      <th>name</th>\n",
       "      <th>transaction</th>\n",
       "    </tr>\n",
       "  </thead>\n",
       "  <tbody>\n",
       "    <tr>\n",
       "      <th>count</th>\n",
       "      <td>5315</td>\n",
       "      <td>5315</td>\n",
       "      <td>5315</td>\n",
       "    </tr>\n",
       "    <tr>\n",
       "      <th>unique</th>\n",
       "      <td>3373</td>\n",
       "      <td>56</td>\n",
       "      <td>3</td>\n",
       "    </tr>\n",
       "    <tr>\n",
       "      <th>top</th>\n",
       "      <td>2020-03-02 00:35:03</td>\n",
       "      <td>Masha_Ozerova</td>\n",
       "      <td>successfull</td>\n",
       "    </tr>\n",
       "    <tr>\n",
       "      <th>freq</th>\n",
       "      <td>6</td>\n",
       "      <td>112</td>\n",
       "      <td>3692</td>\n",
       "    </tr>\n",
       "    <tr>\n",
       "      <th>first</th>\n",
       "      <td>2020-03-02 00:00:00</td>\n",
       "      <td>NaN</td>\n",
       "      <td>NaN</td>\n",
       "    </tr>\n",
       "    <tr>\n",
       "      <th>last</th>\n",
       "      <td>2020-03-02 01:29:05</td>\n",
       "      <td>NaN</td>\n",
       "      <td>NaN</td>\n",
       "    </tr>\n",
       "  </tbody>\n",
       "</table>\n",
       "</div>"
      ],
      "text/plain": [
       "                       date           name  transaction\n",
       "count                  5315           5315         5315\n",
       "unique                 3373             56            3\n",
       "top     2020-03-02 00:35:03  Masha_Ozerova  successfull\n",
       "freq                      6            112         3692\n",
       "first   2020-03-02 00:00:00            NaN          NaN\n",
       "last    2020-03-02 01:29:05            NaN          NaN"
      ]
     },
     "execution_count": 5,
     "metadata": {},
     "output_type": "execute_result"
    }
   ],
   "source": [
    "transaction_data.describe()"
   ]
  },
  {
   "cell_type": "code",
   "execution_count": 6,
   "metadata": {},
   "outputs": [
    {
     "data": {
      "text/plain": [
       "date           0\n",
       "name           0\n",
       "transaction    0\n",
       "dtype: int64"
      ]
     },
     "execution_count": 6,
     "metadata": {},
     "output_type": "execute_result"
    }
   ],
   "source": [
    "transaction_data.isnull().isna().sum()"
   ]
  },
  {
   "cell_type": "markdown",
   "metadata": {},
   "source": [
    "Проверьте, какие значения принимает колонка transaction . Сколько наблюдений относятся к тому или иному уровню? Визуализируйте результат с помощью барплота.\n",
    "\n",
    "Вопрос: расположите уровни переменной в порядке убывания числа относящихся наблюдений (от большего к меньшему)\n",
    "- **Как узнать какие значения принимает колонка?**\n",
    "    \n",
    "    Можно воспользоваться методом `unique`\n",
    "    \n",
    "- **Не работает!**\n",
    "    \n",
    "    А вы точно применили его к колонке датафрэйма, а не ко всему датафрэйму? То есть вместо\n",
    "    \n",
    "    ```python\n",
    "    df.unique()\n",
    "    ```\n",
    "    \n",
    "    нужно написать\n",
    "    \n",
    "    ```python\n",
    "    df.my_column.unique()\n",
    "    ```\n",
    "    \n",
    "- **Как узнать сколько наблюдений относятся к тому или иному значению колонки?**\n",
    "    \n",
    "    Используйте метод `value_counts` от этой колонки\n",
    "    \n",
    "- **Построение барплота**\n",
    "    \n",
    "    Для построения нужного графика импортируйте `seaborn` и вызовите `sns.barplot`, указав там нужные x и y. Например,\n",
    "    \n",
    "    ```python\n",
    "    sns.barplot(x=df.col_x, y=df.col_y)\n",
    "    ```\n",
    "    \n",
    "    построит график с соответствующими координатами x и y из колонок `col_x` и `col_y` для столбиков.\n",
    "    \n",
    "    Альтернативно можно указать в x и y только названия нужных колонок в кавычках, а также передать в `data` переменную с датафрэймом    "
   ]
  },
  {
   "cell_type": "code",
   "execution_count": 7,
   "metadata": {},
   "outputs": [],
   "source": [
    "tr = transaction_data.transaction.value_counts()"
   ]
  },
  {
   "cell_type": "code",
   "execution_count": 8,
   "metadata": {},
   "outputs": [
    {
     "data": {
      "text/plain": [
       "<bound method Series.unique of successfull    3692\n",
       "cancelled      1619\n",
       "error             4\n",
       "Name: transaction, dtype: int64>"
      ]
     },
     "execution_count": 8,
     "metadata": {},
     "output_type": "execute_result"
    }
   ],
   "source": [
    "tr.unique"
   ]
  },
  {
   "cell_type": "code",
   "execution_count": 9,
   "metadata": {},
   "outputs": [
    {
     "data": {
      "text/plain": [
       "<matplotlib.axes._subplots.AxesSubplot at 0x7f5b82fc45c0>"
      ]
     },
     "execution_count": 9,
     "metadata": {},
     "output_type": "execute_result"
    },
    {
     "data": {
      "image/png": "[encoded data removed]",
      "text/plain": [
       "<Figure size 432x288 with 1 Axes>"
      ]
     },
     "metadata": {
      "needs_background": "light"
     },
     "output_type": "display_data"
    }
   ],
   "source": [
    "sns.barplot(x=tr.index, y=tr.values)\n",
    "#index и values подсчитывает и выводит данные"
   ]
  },
  {
   "cell_type": "code",
   "execution_count": 10,
   "metadata": {},
   "outputs": [
    {
     "data": {
      "text/plain": [
       "1619    1\n",
       "4       1\n",
       "3692    1\n",
       "Name: transaction, dtype: int64"
      ]
     },
     "execution_count": 10,
     "metadata": {},
     "output_type": "execute_result"
    }
   ],
   "source": [
    "tr.value_counts()"
   ]
  },
  {
   "cell_type": "code",
   "execution_count": 11,
   "metadata": {},
   "outputs": [
    {
     "data": {
      "text/plain": [
       "4"
      ]
     },
     "execution_count": 11,
     "metadata": {},
     "output_type": "execute_result"
    }
   ],
   "source": [
    "tr['error']\n",
    "#Сколько произошло ошибок? "
   ]
  },
  {
   "cell_type": "markdown",
   "metadata": {},
   "source": [
    "Сколько транзакций осуществил каждый из пользователей? Осуществлёнными считаются транзакции со значением successfull\n",
    "\n",
    "Посмотрите на характеристики распределения, а затем постройте гистограмму числа успешных транзакций, совершённых каждым пользователем, где\n",
    "\n",
    "по оси x – число транзакций\n",
    "по оси y – доля пользователей с таким числом транзакций\n",
    "- **Как решать это задание?**\n",
    "    \n",
    "    Отфильтруйте данные, оставив только транзакции со значением `successfull` в колонке `transaction`. Потом сгруппируйте данные по имени клиента и посчитайте число транзакций (число строк) для каждого клиента. Далее нарисуйте распределение этой величины с помощью функции `sns.distplot`\n",
    "    \n",
    "- **Как визуализировать распределение?**\n",
    "    \n",
    "    Используйте функцию `sns.distplot`, которая принимает серию (колонку датафрэйма). К примеру,\n",
    "    \n",
    "    ```python\n",
    "    sns.distplot(df.column1)\n",
    "    ```\n",
    "    \n",
    "    Нарисует распределение значений из колонки `column1`\n",
    "    \n",
    "- **Как получить точные числа для задачи?**\n",
    "    \n",
    "    Чтобы быстро взглянуть на информацию о распределении данных, можно использовать метод `describe`, например,\n",
    "    \n",
    "    ```python\n",
    "    df.describe()\n",
    "    ```\n",
    "    \n",
    "    Выведет эту информацию для колонок `df`"
   ]
  },
  {
   "cell_type": "code",
   "execution_count": 12,
   "metadata": {},
   "outputs": [],
   "source": [
    "tr_full = transaction_data.query('transaction == \"successfull\"')\\\n",
    "                .groupby('name', as_index=False)\\\n",
    "                .size()"
   ]
  },
  {
   "cell_type": "code",
   "execution_count": 13,
   "metadata": {},
   "outputs": [
    {
     "data": {
      "text/html": [
       "<div>\n",
       "<style scoped>\n",
       "    .dataframe tbody tr th:only-of-type {\n",
       "        vertical-align: middle;\n",
       "    }\n",
       "\n",
       "    .dataframe tbody tr th {\n",
       "        vertical-align: top;\n",
       "    }\n",
       "\n",
       "    .dataframe thead th {\n",
       "        text-align: right;\n",
       "    }\n",
       "</style>\n",
       "<table border=\"1\" class=\"dataframe\">\n",
       "  <thead>\n",
       "    <tr style=\"text-align: right;\">\n",
       "      <th></th>\n",
       "      <th>name</th>\n",
       "      <th>size</th>\n",
       "    </tr>\n",
       "  </thead>\n",
       "  <tbody>\n",
       "    <tr>\n",
       "      <th>0</th>\n",
       "      <td>Ekaterina_Fedorova</td>\n",
       "      <td>72</td>\n",
       "    </tr>\n",
       "    <tr>\n",
       "      <th>1</th>\n",
       "      <td>Ekaterina_Ivanova</td>\n",
       "      <td>59</td>\n",
       "    </tr>\n",
       "    <tr>\n",
       "      <th>2</th>\n",
       "      <td>Ekaterina_Lesnova</td>\n",
       "      <td>63</td>\n",
       "    </tr>\n",
       "    <tr>\n",
       "      <th>3</th>\n",
       "      <td>Ekaterina_Ozerova</td>\n",
       "      <td>72</td>\n",
       "    </tr>\n",
       "    <tr>\n",
       "      <th>4</th>\n",
       "      <td>Ekaterina_Petrova</td>\n",
       "      <td>68</td>\n",
       "    </tr>\n",
       "  </tbody>\n",
       "</table>\n",
       "</div>"
      ],
      "text/plain": [
       "                 name  size\n",
       "0  Ekaterina_Fedorova    72\n",
       "1   Ekaterina_Ivanova    59\n",
       "2   Ekaterina_Lesnova    63\n",
       "3   Ekaterina_Ozerova    72\n",
       "4   Ekaterina_Petrova    68"
      ]
     },
     "execution_count": 13,
     "metadata": {},
     "output_type": "execute_result"
    }
   ],
   "source": [
    "tr_full.head()"
   ]
  },
  {
   "cell_type": "code",
   "execution_count": null,
   "metadata": {},
   "outputs": [],
   "source": []
  },
  {
   "cell_type": "code",
   "execution_count": 14,
   "metadata": {},
   "outputs": [
    {
     "data": {
      "text/plain": [
       "<seaborn.axisgrid.FacetGrid at 0x7f5b80f4ee80>"
      ]
     },
     "execution_count": 14,
     "metadata": {},
     "output_type": "execute_result"
    },
    {
     "data": {
      "image/png": "[encoded data removed]",
      "text/plain": [
       "<Figure size 360x360 with 1 Axes>"
      ]
     },
     "metadata": {
      "needs_background": "light"
     },
     "output_type": "display_data"
    }
   ],
   "source": [
    "sns.displot(data=tr_full, x='size', bins=15)"
   ]
  },
  {
   "cell_type": "markdown",
   "metadata": {},
   "source": [
    "К вам пришёл коллега с немного обновленными данными. Постройте сводную таблицу user_vs_minute_pivot, где:\n",
    "\n",
    "столбцы – имена пользователей\n",
    "строки – минута времени осуществления операции (minute)\n",
    "значения – число совершённых операций\n",
    "Пропущенные значения заполните нулями.\n",
    "\n",
    "Note: фильтровать успешные транзакции не нужно - постройте табличку по всем.\n",
    "\n",
    "Новые данные сохранены в df.\n",
    "- **Как решать это задание?**\n",
    "    \n",
    "    Для начала сгруппируйте данные по имени пользователя и минуте и посчитайте число транзакций для каждого пользователя в каждую минуту. Далее сделайте сводную таблицу с помощью метода `pivot`, указав какие колонки чем являются (`index`, `columns`, `values`). После этого заполните пропущенные значения нулями\n",
    "    \n",
    "- **Как сделать сводную таблицу?**\n",
    "    \n",
    "    Для создания сводной таблички вам нужен датафрэйм с 3-мя колонками - значения одной станут индексом, значения другой - колонками, а значения третьей распределятся по получающейся табличке. То есть\n",
    "    \n",
    "    ```python\n",
    "    df.pivot(index='index_column', columns='columns_column', values='values_column')\n",
    "    ```\n",
    "    \n",
    "    вернёт сводную таблицу, где значения `index_column` стали новым индексом, значения `columns_column` стали новыми столбцами, а значения `values_column` остались значениями в этой новой таблице.\n",
    "    \n",
    "    Размерность новой таблицы - число уникальных значений в `index_column` на число уникальных значений в `columns_column`. Если для комбинации значений `index_column` и `columns_column` не было значения в исходном датафрэйме (строки с такой комбинацией `index_column` и `columns_column` просто не было), в такой ячейке сводной таблицы будет пропущенное значение\n",
    "    \n",
    "- **Как заполнить пропуски нулями?**\n",
    "    \n",
    "    Тут пригодится метод `fillna`, принимающий аргумент, который он будет ставить вместо пропущенных значений. Например,\n",
    "    \n",
    "    ```python\n",
    "    df.fillna(144)\n",
    "    ```\n",
    "    \n",
    "    вернёт датафрэйм, где вместо пропусков будет стоять 144"
   ]
  },
  {
   "cell_type": "code",
   "execution_count": 26,
   "metadata": {},
   "outputs": [],
   "source": [
    "df = pd.read_csv('/mnt/HC_Volume_18315164/home-jupyter/jupyter-i-karamnov-39/transaction_data_updated.csv', parse_dates=['date'])"
   ]
  },
  {
   "cell_type": "code",
   "execution_count": 27,
   "metadata": {},
   "outputs": [],
   "source": [
    "trans_per_minute = df.groupby(['name', 'minute'], as_index=False).size()\n",
    "user_vs_minute_pivot = trans_per_minute.pivot(index='minute', columns='name', values='size')\n",
    "user_vs_minute_pivot = user_vs_minute_pivot.fillna(0)\n",
    "user_vs_minute_pivot = user_vs_minute_pivot.fillna(0)"
   ]
  },
  {
   "cell_type": "markdown",
   "metadata": {},
   "source": [
    "Исправьте ошибку коллеги (если она есть 😉), и посчитайте число минут, прошедших с начала дня. Результат сохраните в колонку true_minute. Постройте график, как в предыдущем шаге, и посмотрите, произошли ли изменения (график в код включать не нужно).\n",
    "\n",
    "Например:\n",
    "\n",
    "date                name               transaction  minute  true_minute\n",
    "2020-03-02 00:37:20 Ekaterina_Petrova  cancelled    37      37\n",
    "2020-03-02 01:06:14 Ekaterina_Smirnova successfull  6       66\n",
    "\n",
    "\n",
    "Данные записаны в df , колонка date прочитана как дата.\n",
    "- **Как сделать это задание?**\n",
    "    \n",
    "    Полное число минут является суммой минут во времени и часов во времени, умноженных на 60. Поэтому нужно взять число минут из времени и прибавить число часов, умноженных на 60, а затем поместить результат в колонку `true_minute`\n",
    "    \n",
    "- **Как взять минуты или часы?**\n",
    "    \n",
    "    У временных колонок есть атрибут `dt`, где хранятся вещи, связанные со временем. Минутная и часовая части времени лежат в атрибутах `minute` и `hour` соответственно. Например\n",
    "    \n",
    "    ```python\n",
    "    df.date.dt.minute\n",
    "    ```\n",
    "    \n",
    "    Вернёт колонку с минутами во времени\n",
    "    \n",
    "- **Как получить число транзакций по минутам?**\n",
    "    \n",
    "    Для этого сгруппируйте по минутам и посчитайте количество строк в каждой группе методом `count`. Также в помощь метод `.value_counts()`, с которым и группировать не надо. Обратите внимание, что это задание проще решать **без использования сводной таблицы**.\n",
    "    \n",
    "- **Построение барплота**\n",
    "    \n",
    "    Для построения нужного графика импортируйте `seaborn` и вызовите `sns.barplot`, указав там нужные x и y. Например,\n",
    "    \n",
    "    ```python\n",
    "    sns.barplot(x=df.col_x, y=df.col_y)\n",
    "    ```\n",
    "    \n",
    "    построит график с соответствующими координатами x и y из колонок `col_x` и `col_y` для столбиков.\n",
    "    \n",
    "    Альтернативно можно указать в x и y только названия нужных колонок в кавычках, а также передать в `data` переменную с датафрэймом\n"
   ]
  },
  {
   "cell_type": "code",
   "execution_count": 31,
   "metadata": {},
   "outputs": [
    {
     "data": {
      "text/html": [
       "<div>\n",
       "<style scoped>\n",
       "    .dataframe tbody tr th:only-of-type {\n",
       "        vertical-align: middle;\n",
       "    }\n",
       "\n",
       "    .dataframe tbody tr th {\n",
       "        vertical-align: top;\n",
       "    }\n",
       "\n",
       "    .dataframe thead th {\n",
       "        text-align: right;\n",
       "    }\n",
       "</style>\n",
       "<table border=\"1\" class=\"dataframe\">\n",
       "  <thead>\n",
       "    <tr style=\"text-align: right;\">\n",
       "      <th></th>\n",
       "      <th>date</th>\n",
       "      <th>name</th>\n",
       "      <th>transaction</th>\n",
       "      <th>minute</th>\n",
       "      <th>true_minute</th>\n",
       "    </tr>\n",
       "  </thead>\n",
       "  <tbody>\n",
       "    <tr>\n",
       "      <th>0</th>\n",
       "      <td>2020-03-02 00:37:20</td>\n",
       "      <td>Ekaterina_Petrova</td>\n",
       "      <td>cancelled</td>\n",
       "      <td>37</td>\n",
       "      <td>37</td>\n",
       "    </tr>\n",
       "    <tr>\n",
       "      <th>1</th>\n",
       "      <td>2020-03-02 00:59:09</td>\n",
       "      <td>Irina_Fedorova</td>\n",
       "      <td>successfull</td>\n",
       "      <td>59</td>\n",
       "      <td>59</td>\n",
       "    </tr>\n",
       "    <tr>\n",
       "      <th>2</th>\n",
       "      <td>2020-03-02 01:06:14</td>\n",
       "      <td>Ekaterina_Smirnova</td>\n",
       "      <td>successfull</td>\n",
       "      <td>6</td>\n",
       "      <td>66</td>\n",
       "    </tr>\n",
       "    <tr>\n",
       "      <th>3</th>\n",
       "      <td>2020-03-02 00:02:58</td>\n",
       "      <td>Lolita_Polyanova</td>\n",
       "      <td>cancelled</td>\n",
       "      <td>2</td>\n",
       "      <td>2</td>\n",
       "    </tr>\n",
       "    <tr>\n",
       "      <th>4</th>\n",
       "      <td>2020-03-02 00:17:52</td>\n",
       "      <td>Julia_Smirnova</td>\n",
       "      <td>cancelled</td>\n",
       "      <td>17</td>\n",
       "      <td>17</td>\n",
       "    </tr>\n",
       "    <tr>\n",
       "      <th>...</th>\n",
       "      <td>...</td>\n",
       "      <td>...</td>\n",
       "      <td>...</td>\n",
       "      <td>...</td>\n",
       "      <td>...</td>\n",
       "    </tr>\n",
       "    <tr>\n",
       "      <th>5310</th>\n",
       "      <td>2020-03-02 00:09:28</td>\n",
       "      <td>Vasilisa_Fedorova</td>\n",
       "      <td>successfull</td>\n",
       "      <td>9</td>\n",
       "      <td>9</td>\n",
       "    </tr>\n",
       "    <tr>\n",
       "      <th>5311</th>\n",
       "      <td>2020-03-02 00:46:31</td>\n",
       "      <td>Vasilisa_Ozerova</td>\n",
       "      <td>successfull</td>\n",
       "      <td>46</td>\n",
       "      <td>46</td>\n",
       "    </tr>\n",
       "    <tr>\n",
       "      <th>5312</th>\n",
       "      <td>2020-03-02 00:16:38</td>\n",
       "      <td>Olga_Polyanova</td>\n",
       "      <td>successfull</td>\n",
       "      <td>16</td>\n",
       "      <td>16</td>\n",
       "    </tr>\n",
       "    <tr>\n",
       "      <th>5313</th>\n",
       "      <td>2020-03-02 00:13:00</td>\n",
       "      <td>Ekaterina_Smirnova</td>\n",
       "      <td>successfull</td>\n",
       "      <td>13</td>\n",
       "      <td>13</td>\n",
       "    </tr>\n",
       "    <tr>\n",
       "      <th>5314</th>\n",
       "      <td>2020-03-02 01:15:45</td>\n",
       "      <td>Irina_Fedorova</td>\n",
       "      <td>cancelled</td>\n",
       "      <td>15</td>\n",
       "      <td>75</td>\n",
       "    </tr>\n",
       "  </tbody>\n",
       "</table>\n",
       "<p>5315 rows × 5 columns</p>\n",
       "</div>"
      ],
      "text/plain": [
       "                    date                name  transaction  minute  true_minute\n",
       "0    2020-03-02 00:37:20   Ekaterina_Petrova    cancelled      37           37\n",
       "1    2020-03-02 00:59:09      Irina_Fedorova  successfull      59           59\n",
       "2    2020-03-02 01:06:14  Ekaterina_Smirnova  successfull       6           66\n",
       "3    2020-03-02 00:02:58    Lolita_Polyanova    cancelled       2            2\n",
       "4    2020-03-02 00:17:52      Julia_Smirnova    cancelled      17           17\n",
       "...                  ...                 ...          ...     ...          ...\n",
       "5310 2020-03-02 00:09:28   Vasilisa_Fedorova  successfull       9            9\n",
       "5311 2020-03-02 00:46:31    Vasilisa_Ozerova  successfull      46           46\n",
       "5312 2020-03-02 00:16:38      Olga_Polyanova  successfull      16           16\n",
       "5313 2020-03-02 00:13:00  Ekaterina_Smirnova  successfull      13           13\n",
       "5314 2020-03-02 01:15:45      Irina_Fedorova    cancelled      15           75\n",
       "\n",
       "[5315 rows x 5 columns]"
      ]
     },
     "execution_count": 31,
     "metadata": {},
     "output_type": "execute_result"
    }
   ],
   "source": [
    "df"
   ]
  },
  {
   "cell_type": "code",
   "execution_count": 29,
   "metadata": {},
   "outputs": [
    {
     "data": {
      "text/plain": [
       "count                             5315\n",
       "mean     2020-03-02 00:43:56.628974592\n",
       "min                2020-03-02 00:00:00\n",
       "25%         2020-03-02 00:21:50.500000\n",
       "50%                2020-03-02 00:43:26\n",
       "75%         2020-03-02 01:06:22.500000\n",
       "max                2020-03-02 01:29:05\n",
       "Name: date, dtype: object"
      ]
     },
     "execution_count": 29,
     "metadata": {},
     "output_type": "execute_result"
    }
   ],
   "source": [
    "df.date.describe(datetime_is_numeric=True)"
   ]
  },
  {
   "cell_type": "code",
   "execution_count": 30,
   "metadata": {},
   "outputs": [],
   "source": [
    "df['true_minute'] = df.date.dt.minute + df.date.dt.hour *60"
   ]
  },
  {
   "cell_type": "code",
   "execution_count": 17,
   "metadata": {},
   "outputs": [],
   "source": [
    "minute_trans = user_vs_minute_pivot.sum(axis=1)\n"
   ]
  },
  {
   "cell_type": "code",
   "execution_count": 32,
   "metadata": {},
   "outputs": [
    {
     "data": {
      "text/plain": [
       "<matplotlib.axes._subplots.AxesSubplot at 0x7f5b80771748>"
      ]
     },
     "execution_count": 32,
     "metadata": {},
     "output_type": "execute_result"
    },
    {
     "data": {
      "image/png": "[encoded data removed]",
      "text/plain": [
       "<Figure size 1728x864 with 1 Axes>"
      ]
     },
     "metadata": {
      "needs_background": "light"
     },
     "output_type": "display_data"
    }
   ],
   "source": [
    "minute_trans.plot.bar(figsize=(24,12))"
   ]
  },
  {
   "cell_type": "code",
   "execution_count": 33,
   "metadata": {},
   "outputs": [
    {
     "data": {
      "text/plain": [
       "<seaborn.axisgrid.FacetGrid at 0x7f5b8067f898>"
      ]
     },
     "execution_count": 33,
     "metadata": {},
     "output_type": "execute_result"
    },
    {
     "data": {
      "image/png": "[encoded data removed]",
      "text/plain": [
       "<Figure size 360x360 with 1 Axes>"
      ]
     },
     "metadata": {
      "needs_background": "light"
     },
     "output_type": "display_data"
    }
   ],
   "source": [
    "sns.displot(data=df, x='true_minute', kde=True)"
   ]
  },
  {
   "cell_type": "code",
   "execution_count": null,
   "metadata": {},
   "outputs": [],
   "source": []
  }
 ],
 "metadata": {
  "kernelspec": {
   "display_name": "Python 3",
   "language": "python",
   "name": "python3"
  },
  "language_info": {
   "codemirror_mode": {
    "name": "ipython",
    "version": 3
   },
   "file_extension": ".py",
   "mimetype": "text/x-python",
   "name": "python",
   "nbconvert_exporter": "python",
   "pygments_lexer": "ipython3",
   "version": "3.7.3"
  }
 },
 "nbformat": 4,
 "nbformat_minor": 4
}
